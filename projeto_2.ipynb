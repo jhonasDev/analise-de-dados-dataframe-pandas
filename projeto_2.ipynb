{
  "nbformat": 4,
  "nbformat_minor": 0,
  "metadata": {
    "colab": {
      "name": "projeto 2.ipynb",
      "provenance": [],
      "collapsed_sections": [],
      "authorship_tag": "ABX9TyPAN7UEHVZd3E1Y5Y8EuwHb",
      "include_colab_link": true
    },
    "kernelspec": {
      "name": "python3",
      "display_name": "Python 3"
    },
    "language_info": {
      "name": "python"
    }
  },
  "cells": [
    {
      "cell_type": "markdown",
      "metadata": {
        "id": "view-in-github",
        "colab_type": "text"
      },
      "source": [
        "<a href=\"https://colab.research.google.com/github/jhonasDev/analise-de-dados-dataframe-pandas/blob/projeto-2-analise-de-dados-datahackers-do-brasil/projeto_2.ipynb\" target=\"_parent\"><img src=\"https://colab.research.google.com/assets/colab-badge.svg\" alt=\"Open In Colab\"/></a>"
      ]
    },
    {
      "cell_type": "markdown",
      "source": [
        "####Nome: Jonatas da Silva projeto 2\n"
      ],
      "metadata": {
        "id": "CuPdAyG-3AV-"
      }
    },
    {
      "cell_type": "code",
      "source": [
        "import numpy as np"
      ],
      "metadata": {
        "id": "sF4_nzzceAEW"
      },
      "execution_count": null,
      "outputs": []
    },
    {
      "cell_type": "code",
      "execution_count": null,
      "metadata": {
        "id": "eT9Coioygefe"
      },
      "outputs": [],
      "source": [
        "url = '/content/datahackers-survey-2019-anonymous-responses (1).csv'\n",
        "import pandas as pd"
      ]
    },
    {
      "cell_type": "code",
      "source": [
        "pesquisa = pd.read_csv(url)"
      ],
      "metadata": {
        "id": "ay3DQk8-Ptl1"
      },
      "execution_count": null,
      "outputs": []
    },
    {
      "cell_type": "code",
      "source": [
        "pesquisa"
      ],
      "metadata": {
        "colab": {
          "base_uri": "https://localhost:8080/",
          "height": 766
        },
        "id": "pywjGG0QQep0",
        "outputId": "39df6262-019f-481d-d20a-d00c37ae9b3a"
      },
      "execution_count": null,
      "outputs": [
        {
          "output_type": "execute_result",
          "data": {
            "text/plain": [
              "                          ('P0', 'id')  ('P1', 'age') ('P2', 'gender')  \\\n",
              "0     v9otv8j9wdvjrv9otvwnn9owhzq54ktv           37.0        Masculino   \n",
              "1     875ul998t0hqcv0871uptwf3oswcfv35           24.0         Feminino   \n",
              "2     puscuk079vw1pusbb900pzw2xvpxtgdk           26.0        Masculino   \n",
              "3     rmel8ewqpbffp2mnfbzermel8eqincov           21.0        Masculino   \n",
              "4     pj9mgud4d6mdct1l7vq0pj9mgu78h6ju           27.0        Masculino   \n",
              "...                                ...            ...              ...   \n",
              "1760  qkjyuc8dayrrqahyjqkj841kpgymnpau           23.0         Feminino   \n",
              "1761  7z5vvw7ycrxn4sujnv7z5vvw7r36gi5k           39.0        Masculino   \n",
              "1762  0s2jaountv3tyrae0sir4jd8o5hz19ob           36.0        Masculino   \n",
              "1763  r3kvh535z7xai2v8er3kv791tkmcysz8           29.0        Masculino   \n",
              "1764  1cz0hm5i92rw913f1cz0hmvferfavkkb           22.0              NaN   \n",
              "\n",
              "      ('P3', 'living_in_brasil') ('P5', 'living_state')  \\\n",
              "0                              1      Minas Gerais (MG)   \n",
              "1                              1         São Paulo (SP)   \n",
              "2                              1         São Paulo (SP)   \n",
              "3                              1         São Paulo (SP)   \n",
              "4                              1                    NaN   \n",
              "...                          ...                    ...   \n",
              "1760                           1      Minas Gerais (MG)   \n",
              "1761                           1         São Paulo (SP)   \n",
              "1762                           1            Paraná (PR)   \n",
              "1763                           1      Minas Gerais (MG)   \n",
              "1764                           0                    NaN   \n",
              "\n",
              "      ('P6', 'born_or_graduated')     ('P8', 'degreee_level')  \\\n",
              "0                             1.0      Estudante de Graduação   \n",
              "1                             1.0      Estudante de Graduação   \n",
              "2                             1.0       Graduação/Bacharelado   \n",
              "3                             0.0      Estudante de Graduação   \n",
              "4                             1.0       Graduação/Bacharelado   \n",
              "...                           ...                         ...   \n",
              "1760                          1.0       Graduação/Bacharelado   \n",
              "1761                          1.0      Estudante de Graduação   \n",
              "1762                          0.0               Pós-graduação   \n",
              "1763                          1.0  Não tenho graduação formal   \n",
              "1764                          NaN  Não tenho graduação formal   \n",
              "\n",
              "                ('P10', 'job_situation') ('P12', 'workers_number')  \\\n",
              "0                        Empregado (CTL)                  de 1 a 5   \n",
              "1                        Empregado (CTL)             Acima de 3000   \n",
              "2                        Empregado (CTL)             Acima de 3000   \n",
              "3                             Estagiário                de 11 a 50   \n",
              "4                             Freelancer                 de 6 a 10   \n",
              "...                                  ...                       ...   \n",
              "1760  Desempregado, buscando recolocação                       NaN   \n",
              "1761                     Empregado (CTL)            de 1001 a 3000   \n",
              "1762                     Empregado (CTL)             Acima de 3000   \n",
              "1763    Empreendedor ou Empregado (CNPJ)                de 11 a 50   \n",
              "1764                   Prefiro não dizer             Acima de 3000   \n",
              "\n",
              "      ('P13', 'manager')  ... ('P34', 'other')  \\\n",
              "0                    0.0  ...                0   \n",
              "1                    0.0  ...                1   \n",
              "2                    0.0  ...                0   \n",
              "3                    0.0  ...                0   \n",
              "4                    1.0  ...                0   \n",
              "...                  ...  ...              ...   \n",
              "1760                 NaN  ...                0   \n",
              "1761                 0.0  ...                0   \n",
              "1762                 0.0  ...                0   \n",
              "1763                 1.0  ...                0   \n",
              "1764                 0.0  ...                0   \n",
              "\n",
              "     ('P35', 'data_science_plataforms_preference')      ('P35', 'other')  \\\n",
              "0                          Nunca fiz cursos online                   NaN   \n",
              "1                                              NaN  Data Science Academy   \n",
              "2                                            Udemy                   NaN   \n",
              "3                                            Alura                   NaN   \n",
              "4                                            Udemy                   NaN   \n",
              "...                                            ...                   ...   \n",
              "1760                                         Udemy                   NaN   \n",
              "1761                                         Udemy                   NaN   \n",
              "1762                                         Udemy                   NaN   \n",
              "1763                                       Udacity                   NaN   \n",
              "1764                                         Udemy                   NaN   \n",
              "\n",
              "      ('P36', 'draw_participation')  ('D1', 'living_macroregion')  \\\n",
              "0                               1.0                Região Sudeste   \n",
              "1                               0.0                Região Sudeste   \n",
              "2                               1.0                Região Sudeste   \n",
              "3                               1.0                Região Sudeste   \n",
              "4                               1.0                           NaN   \n",
              "...                             ...                           ...   \n",
              "1760                            0.0                Região Sudeste   \n",
              "1761                            1.0                Região Sudeste   \n",
              "1762                            1.0                    Região Sul   \n",
              "1763                            0.0                Região Sudeste   \n",
              "1764                            0.0                           NaN   \n",
              "\n",
              "      ('D2', 'origin_macroregion')  \\\n",
              "0                              NaN   \n",
              "1                              NaN   \n",
              "2                              NaN   \n",
              "3                   Região Sudeste   \n",
              "4                              NaN   \n",
              "...                            ...   \n",
              "1760                           NaN   \n",
              "1761                           NaN   \n",
              "1762               Região Nordeste   \n",
              "1763                           NaN   \n",
              "1764                           NaN   \n",
              "\n",
              "                       ('D3', 'anonymized_degree_area')  \\\n",
              "0     Computação / Engenharia de Software / Sistemas...   \n",
              "1     Computação / Engenharia de Software / Sistemas...   \n",
              "2                                    Outras Engenharias   \n",
              "3     Computação / Engenharia de Software / Sistemas...   \n",
              "4     Computação / Engenharia de Software / Sistemas...   \n",
              "...                                                 ...   \n",
              "1760                                             Outras   \n",
              "1761  Computação / Engenharia de Software / Sistemas...   \n",
              "1762  Computação / Engenharia de Software / Sistemas...   \n",
              "1763                                                NaN   \n",
              "1764                                                NaN   \n",
              "\n",
              "      ('D4', 'anonymized_market_sector')  ('D5', 'anonymized_manager_level')  \\\n",
              "0                                 Outras                                 NaN   \n",
              "1                               Educação                                 NaN   \n",
              "2                 Indústria (Manufatura)                                 NaN   \n",
              "3         Tecnologia/Fábrica de Software                                 NaN   \n",
              "4                     Internet/Ecommerce             C-level (CDO, CIO, CTO)   \n",
              "...                                  ...                                 ...   \n",
              "1760                                 NaN                                 NaN   \n",
              "1761      Tecnologia/Fábrica de Software                                 NaN   \n",
              "1762      Tecnologia/Fábrica de Software                                 NaN   \n",
              "1763      Tecnologia/Fábrica de Software             C-level (CDO, CIO, CTO)   \n",
              "1764                   Setor Alimentício                                 NaN   \n",
              "\n",
              "                  ('D6', 'anonymized_role')  \n",
              "0                                    Outras  \n",
              "1            Data Analyst/Analista de Dados  \n",
              "2                                    Outras  \n",
              "3      Business Intelligence/Analista de BI  \n",
              "4                                       NaN  \n",
              "...                                     ...  \n",
              "1760                                    NaN  \n",
              "1761  Business Analyst/Analista de Negócios  \n",
              "1762      Data Engineer/Engenheiro de Dados  \n",
              "1763      Data Engineer/Engenheiro de Dados  \n",
              "1764                            Estatístico  \n",
              "\n",
              "[1765 rows x 170 columns]"
            ],
            "text/html": [
              "\n",
              "  <div id=\"df-62c00d58-95f7-4c30-9749-b92146b9fb23\">\n",
              "    <div class=\"colab-df-container\">\n",
              "      <div>\n",
              "<style scoped>\n",
              "    .dataframe tbody tr th:only-of-type {\n",
              "        vertical-align: middle;\n",
              "    }\n",
              "\n",
              "    .dataframe tbody tr th {\n",
              "        vertical-align: top;\n",
              "    }\n",
              "\n",
              "    .dataframe thead th {\n",
              "        text-align: right;\n",
              "    }\n",
              "</style>\n",
              "<table border=\"1\" class=\"dataframe\">\n",
              "  <thead>\n",
              "    <tr style=\"text-align: right;\">\n",
              "      <th></th>\n",
              "      <th>('P0', 'id')</th>\n",
              "      <th>('P1', 'age')</th>\n",
              "      <th>('P2', 'gender')</th>\n",
              "      <th>('P3', 'living_in_brasil')</th>\n",
              "      <th>('P5', 'living_state')</th>\n",
              "      <th>('P6', 'born_or_graduated')</th>\n",
              "      <th>('P8', 'degreee_level')</th>\n",
              "      <th>('P10', 'job_situation')</th>\n",
              "      <th>('P12', 'workers_number')</th>\n",
              "      <th>('P13', 'manager')</th>\n",
              "      <th>...</th>\n",
              "      <th>('P34', 'other')</th>\n",
              "      <th>('P35', 'data_science_plataforms_preference')</th>\n",
              "      <th>('P35', 'other')</th>\n",
              "      <th>('P36', 'draw_participation')</th>\n",
              "      <th>('D1', 'living_macroregion')</th>\n",
              "      <th>('D2', 'origin_macroregion')</th>\n",
              "      <th>('D3', 'anonymized_degree_area')</th>\n",
              "      <th>('D4', 'anonymized_market_sector')</th>\n",
              "      <th>('D5', 'anonymized_manager_level')</th>\n",
              "      <th>('D6', 'anonymized_role')</th>\n",
              "    </tr>\n",
              "  </thead>\n",
              "  <tbody>\n",
              "    <tr>\n",
              "      <th>0</th>\n",
              "      <td>v9otv8j9wdvjrv9otvwnn9owhzq54ktv</td>\n",
              "      <td>37.0</td>\n",
              "      <td>Masculino</td>\n",
              "      <td>1</td>\n",
              "      <td>Minas Gerais (MG)</td>\n",
              "      <td>1.0</td>\n",
              "      <td>Estudante de Graduação</td>\n",
              "      <td>Empregado (CTL)</td>\n",
              "      <td>de 1 a 5</td>\n",
              "      <td>0.0</td>\n",
              "      <td>...</td>\n",
              "      <td>0</td>\n",
              "      <td>Nunca fiz cursos online</td>\n",
              "      <td>NaN</td>\n",
              "      <td>1.0</td>\n",
              "      <td>Região Sudeste</td>\n",
              "      <td>NaN</td>\n",
              "      <td>Computação / Engenharia de Software / Sistemas...</td>\n",
              "      <td>Outras</td>\n",
              "      <td>NaN</td>\n",
              "      <td>Outras</td>\n",
              "    </tr>\n",
              "    <tr>\n",
              "      <th>1</th>\n",
              "      <td>875ul998t0hqcv0871uptwf3oswcfv35</td>\n",
              "      <td>24.0</td>\n",
              "      <td>Feminino</td>\n",
              "      <td>1</td>\n",
              "      <td>São Paulo (SP)</td>\n",
              "      <td>1.0</td>\n",
              "      <td>Estudante de Graduação</td>\n",
              "      <td>Empregado (CTL)</td>\n",
              "      <td>Acima de 3000</td>\n",
              "      <td>0.0</td>\n",
              "      <td>...</td>\n",
              "      <td>1</td>\n",
              "      <td>NaN</td>\n",
              "      <td>Data Science Academy</td>\n",
              "      <td>0.0</td>\n",
              "      <td>Região Sudeste</td>\n",
              "      <td>NaN</td>\n",
              "      <td>Computação / Engenharia de Software / Sistemas...</td>\n",
              "      <td>Educação</td>\n",
              "      <td>NaN</td>\n",
              "      <td>Data Analyst/Analista de Dados</td>\n",
              "    </tr>\n",
              "    <tr>\n",
              "      <th>2</th>\n",
              "      <td>puscuk079vw1pusbb900pzw2xvpxtgdk</td>\n",
              "      <td>26.0</td>\n",
              "      <td>Masculino</td>\n",
              "      <td>1</td>\n",
              "      <td>São Paulo (SP)</td>\n",
              "      <td>1.0</td>\n",
              "      <td>Graduação/Bacharelado</td>\n",
              "      <td>Empregado (CTL)</td>\n",
              "      <td>Acima de 3000</td>\n",
              "      <td>0.0</td>\n",
              "      <td>...</td>\n",
              "      <td>0</td>\n",
              "      <td>Udemy</td>\n",
              "      <td>NaN</td>\n",
              "      <td>1.0</td>\n",
              "      <td>Região Sudeste</td>\n",
              "      <td>NaN</td>\n",
              "      <td>Outras Engenharias</td>\n",
              "      <td>Indústria (Manufatura)</td>\n",
              "      <td>NaN</td>\n",
              "      <td>Outras</td>\n",
              "    </tr>\n",
              "    <tr>\n",
              "      <th>3</th>\n",
              "      <td>rmel8ewqpbffp2mnfbzermel8eqincov</td>\n",
              "      <td>21.0</td>\n",
              "      <td>Masculino</td>\n",
              "      <td>1</td>\n",
              "      <td>São Paulo (SP)</td>\n",
              "      <td>0.0</td>\n",
              "      <td>Estudante de Graduação</td>\n",
              "      <td>Estagiário</td>\n",
              "      <td>de 11 a 50</td>\n",
              "      <td>0.0</td>\n",
              "      <td>...</td>\n",
              "      <td>0</td>\n",
              "      <td>Alura</td>\n",
              "      <td>NaN</td>\n",
              "      <td>1.0</td>\n",
              "      <td>Região Sudeste</td>\n",
              "      <td>Região Sudeste</td>\n",
              "      <td>Computação / Engenharia de Software / Sistemas...</td>\n",
              "      <td>Tecnologia/Fábrica de Software</td>\n",
              "      <td>NaN</td>\n",
              "      <td>Business Intelligence/Analista de BI</td>\n",
              "    </tr>\n",
              "    <tr>\n",
              "      <th>4</th>\n",
              "      <td>pj9mgud4d6mdct1l7vq0pj9mgu78h6ju</td>\n",
              "      <td>27.0</td>\n",
              "      <td>Masculino</td>\n",
              "      <td>1</td>\n",
              "      <td>NaN</td>\n",
              "      <td>1.0</td>\n",
              "      <td>Graduação/Bacharelado</td>\n",
              "      <td>Freelancer</td>\n",
              "      <td>de 6 a 10</td>\n",
              "      <td>1.0</td>\n",
              "      <td>...</td>\n",
              "      <td>0</td>\n",
              "      <td>Udemy</td>\n",
              "      <td>NaN</td>\n",
              "      <td>1.0</td>\n",
              "      <td>NaN</td>\n",
              "      <td>NaN</td>\n",
              "      <td>Computação / Engenharia de Software / Sistemas...</td>\n",
              "      <td>Internet/Ecommerce</td>\n",
              "      <td>C-level (CDO, CIO, CTO)</td>\n",
              "      <td>NaN</td>\n",
              "    </tr>\n",
              "    <tr>\n",
              "      <th>...</th>\n",
              "      <td>...</td>\n",
              "      <td>...</td>\n",
              "      <td>...</td>\n",
              "      <td>...</td>\n",
              "      <td>...</td>\n",
              "      <td>...</td>\n",
              "      <td>...</td>\n",
              "      <td>...</td>\n",
              "      <td>...</td>\n",
              "      <td>...</td>\n",
              "      <td>...</td>\n",
              "      <td>...</td>\n",
              "      <td>...</td>\n",
              "      <td>...</td>\n",
              "      <td>...</td>\n",
              "      <td>...</td>\n",
              "      <td>...</td>\n",
              "      <td>...</td>\n",
              "      <td>...</td>\n",
              "      <td>...</td>\n",
              "      <td>...</td>\n",
              "    </tr>\n",
              "    <tr>\n",
              "      <th>1760</th>\n",
              "      <td>qkjyuc8dayrrqahyjqkj841kpgymnpau</td>\n",
              "      <td>23.0</td>\n",
              "      <td>Feminino</td>\n",
              "      <td>1</td>\n",
              "      <td>Minas Gerais (MG)</td>\n",
              "      <td>1.0</td>\n",
              "      <td>Graduação/Bacharelado</td>\n",
              "      <td>Desempregado, buscando recolocação</td>\n",
              "      <td>NaN</td>\n",
              "      <td>NaN</td>\n",
              "      <td>...</td>\n",
              "      <td>0</td>\n",
              "      <td>Udemy</td>\n",
              "      <td>NaN</td>\n",
              "      <td>0.0</td>\n",
              "      <td>Região Sudeste</td>\n",
              "      <td>NaN</td>\n",
              "      <td>Outras</td>\n",
              "      <td>NaN</td>\n",
              "      <td>NaN</td>\n",
              "      <td>NaN</td>\n",
              "    </tr>\n",
              "    <tr>\n",
              "      <th>1761</th>\n",
              "      <td>7z5vvw7ycrxn4sujnv7z5vvw7r36gi5k</td>\n",
              "      <td>39.0</td>\n",
              "      <td>Masculino</td>\n",
              "      <td>1</td>\n",
              "      <td>São Paulo (SP)</td>\n",
              "      <td>1.0</td>\n",
              "      <td>Estudante de Graduação</td>\n",
              "      <td>Empregado (CTL)</td>\n",
              "      <td>de 1001 a 3000</td>\n",
              "      <td>0.0</td>\n",
              "      <td>...</td>\n",
              "      <td>0</td>\n",
              "      <td>Udemy</td>\n",
              "      <td>NaN</td>\n",
              "      <td>1.0</td>\n",
              "      <td>Região Sudeste</td>\n",
              "      <td>NaN</td>\n",
              "      <td>Computação / Engenharia de Software / Sistemas...</td>\n",
              "      <td>Tecnologia/Fábrica de Software</td>\n",
              "      <td>NaN</td>\n",
              "      <td>Business Analyst/Analista de Negócios</td>\n",
              "    </tr>\n",
              "    <tr>\n",
              "      <th>1762</th>\n",
              "      <td>0s2jaountv3tyrae0sir4jd8o5hz19ob</td>\n",
              "      <td>36.0</td>\n",
              "      <td>Masculino</td>\n",
              "      <td>1</td>\n",
              "      <td>Paraná (PR)</td>\n",
              "      <td>0.0</td>\n",
              "      <td>Pós-graduação</td>\n",
              "      <td>Empregado (CTL)</td>\n",
              "      <td>Acima de 3000</td>\n",
              "      <td>0.0</td>\n",
              "      <td>...</td>\n",
              "      <td>0</td>\n",
              "      <td>Udemy</td>\n",
              "      <td>NaN</td>\n",
              "      <td>1.0</td>\n",
              "      <td>Região Sul</td>\n",
              "      <td>Região Nordeste</td>\n",
              "      <td>Computação / Engenharia de Software / Sistemas...</td>\n",
              "      <td>Tecnologia/Fábrica de Software</td>\n",
              "      <td>NaN</td>\n",
              "      <td>Data Engineer/Engenheiro de Dados</td>\n",
              "    </tr>\n",
              "    <tr>\n",
              "      <th>1763</th>\n",
              "      <td>r3kvh535z7xai2v8er3kv791tkmcysz8</td>\n",
              "      <td>29.0</td>\n",
              "      <td>Masculino</td>\n",
              "      <td>1</td>\n",
              "      <td>Minas Gerais (MG)</td>\n",
              "      <td>1.0</td>\n",
              "      <td>Não tenho graduação formal</td>\n",
              "      <td>Empreendedor ou Empregado (CNPJ)</td>\n",
              "      <td>de 11 a 50</td>\n",
              "      <td>1.0</td>\n",
              "      <td>...</td>\n",
              "      <td>0</td>\n",
              "      <td>Udacity</td>\n",
              "      <td>NaN</td>\n",
              "      <td>0.0</td>\n",
              "      <td>Região Sudeste</td>\n",
              "      <td>NaN</td>\n",
              "      <td>NaN</td>\n",
              "      <td>Tecnologia/Fábrica de Software</td>\n",
              "      <td>C-level (CDO, CIO, CTO)</td>\n",
              "      <td>Data Engineer/Engenheiro de Dados</td>\n",
              "    </tr>\n",
              "    <tr>\n",
              "      <th>1764</th>\n",
              "      <td>1cz0hm5i92rw913f1cz0hmvferfavkkb</td>\n",
              "      <td>22.0</td>\n",
              "      <td>NaN</td>\n",
              "      <td>0</td>\n",
              "      <td>NaN</td>\n",
              "      <td>NaN</td>\n",
              "      <td>Não tenho graduação formal</td>\n",
              "      <td>Prefiro não dizer</td>\n",
              "      <td>Acima de 3000</td>\n",
              "      <td>0.0</td>\n",
              "      <td>...</td>\n",
              "      <td>0</td>\n",
              "      <td>Udemy</td>\n",
              "      <td>NaN</td>\n",
              "      <td>0.0</td>\n",
              "      <td>NaN</td>\n",
              "      <td>NaN</td>\n",
              "      <td>NaN</td>\n",
              "      <td>Setor Alimentício</td>\n",
              "      <td>NaN</td>\n",
              "      <td>Estatístico</td>\n",
              "    </tr>\n",
              "  </tbody>\n",
              "</table>\n",
              "<p>1765 rows × 170 columns</p>\n",
              "</div>\n",
              "      <button class=\"colab-df-convert\" onclick=\"convertToInteractive('df-62c00d58-95f7-4c30-9749-b92146b9fb23')\"\n",
              "              title=\"Convert this dataframe to an interactive table.\"\n",
              "              style=\"display:none;\">\n",
              "        \n",
              "  <svg xmlns=\"http://www.w3.org/2000/svg\" height=\"24px\"viewBox=\"0 0 24 24\"\n",
              "       width=\"24px\">\n",
              "    <path d=\"M0 0h24v24H0V0z\" fill=\"none\"/>\n",
              "    <path d=\"M18.56 5.44l.94 2.06.94-2.06 2.06-.94-2.06-.94-.94-2.06-.94 2.06-2.06.94zm-11 1L8.5 8.5l.94-2.06 2.06-.94-2.06-.94L8.5 2.5l-.94 2.06-2.06.94zm10 10l.94 2.06.94-2.06 2.06-.94-2.06-.94-.94-2.06-.94 2.06-2.06.94z\"/><path d=\"M17.41 7.96l-1.37-1.37c-.4-.4-.92-.59-1.43-.59-.52 0-1.04.2-1.43.59L10.3 9.45l-7.72 7.72c-.78.78-.78 2.05 0 2.83L4 21.41c.39.39.9.59 1.41.59.51 0 1.02-.2 1.41-.59l7.78-7.78 2.81-2.81c.8-.78.8-2.07 0-2.86zM5.41 20L4 18.59l7.72-7.72 1.47 1.35L5.41 20z\"/>\n",
              "  </svg>\n",
              "      </button>\n",
              "      \n",
              "  <style>\n",
              "    .colab-df-container {\n",
              "      display:flex;\n",
              "      flex-wrap:wrap;\n",
              "      gap: 12px;\n",
              "    }\n",
              "\n",
              "    .colab-df-convert {\n",
              "      background-color: #E8F0FE;\n",
              "      border: none;\n",
              "      border-radius: 50%;\n",
              "      cursor: pointer;\n",
              "      display: none;\n",
              "      fill: #1967D2;\n",
              "      height: 32px;\n",
              "      padding: 0 0 0 0;\n",
              "      width: 32px;\n",
              "    }\n",
              "\n",
              "    .colab-df-convert:hover {\n",
              "      background-color: #E2EBFA;\n",
              "      box-shadow: 0px 1px 2px rgba(60, 64, 67, 0.3), 0px 1px 3px 1px rgba(60, 64, 67, 0.15);\n",
              "      fill: #174EA6;\n",
              "    }\n",
              "\n",
              "    [theme=dark] .colab-df-convert {\n",
              "      background-color: #3B4455;\n",
              "      fill: #D2E3FC;\n",
              "    }\n",
              "\n",
              "    [theme=dark] .colab-df-convert:hover {\n",
              "      background-color: #434B5C;\n",
              "      box-shadow: 0px 1px 3px 1px rgba(0, 0, 0, 0.15);\n",
              "      filter: drop-shadow(0px 1px 2px rgba(0, 0, 0, 0.3));\n",
              "      fill: #FFFFFF;\n",
              "    }\n",
              "  </style>\n",
              "\n",
              "      <script>\n",
              "        const buttonEl =\n",
              "          document.querySelector('#df-62c00d58-95f7-4c30-9749-b92146b9fb23 button.colab-df-convert');\n",
              "        buttonEl.style.display =\n",
              "          google.colab.kernel.accessAllowed ? 'block' : 'none';\n",
              "\n",
              "        async function convertToInteractive(key) {\n",
              "          const element = document.querySelector('#df-62c00d58-95f7-4c30-9749-b92146b9fb23');\n",
              "          const dataTable =\n",
              "            await google.colab.kernel.invokeFunction('convertToInteractive',\n",
              "                                                     [key], {});\n",
              "          if (!dataTable) return;\n",
              "\n",
              "          const docLinkHtml = 'Like what you see? Visit the ' +\n",
              "            '<a target=\"_blank\" href=https://colab.research.google.com/notebooks/data_table.ipynb>data table notebook</a>'\n",
              "            + ' to learn more about interactive tables.';\n",
              "          element.innerHTML = '';\n",
              "          dataTable['output_type'] = 'display_data';\n",
              "          await google.colab.output.renderOutput(dataTable, element);\n",
              "          const docLink = document.createElement('div');\n",
              "          docLink.innerHTML = docLinkHtml;\n",
              "          element.appendChild(docLink);\n",
              "        }\n",
              "      </script>\n",
              "    </div>\n",
              "  </div>\n",
              "  "
            ]
          },
          "metadata": {},
          "execution_count": 3
        }
      ]
    },
    {
      "cell_type": "code",
      "source": [
        "pesquisa.rename(columns = {\"('P0', 'id')\":'identificador',\n",
        "                           \"('P1', 'age')\":'idade',\"('P2', 'gender')\":'genero',\n",
        "                           \"('P3', 'living_in_brasil')\":'mora no brasil',\n",
        "                           \"('P5', 'living_state')\":'estado brasil',\n",
        "                           \"('P6', 'born_or_graduated')\":'nascido ou graduado',\n",
        "                           \"('P8', 'degreee_level')\":'nivel de graduação',\n",
        "                           \"('P10', 'job_situation')\":'situação do trabalho',\n",
        "                        \n",
        "                           \"('P12', 'workers_number')\":'numero de trabalhadores',\n",
        "                           \"('P13', 'manager')\":'gerente',\"('P34', 'other')\":'outros',\n",
        "                           \"('P16', 'salary_range')\":'salario',\n",
        "                           \"('P35', 'data_science_plataforms_preference')\":'preferencia de plataformas',\n",
        "                           \"('P35', 'other')\":'outras plataformas',\n",
        "                           \"('P36', 'draw_participation')\":'sorteio de participação',\n",
        "                           \"('D1', 'living_macroregion')\":'mora da região',\n",
        "                           \"('D2', 'origin_macroregion')\":'região de origem',\n",
        "                           \"('D3', 'anonymized_degree_area')\":'área de graduação anonima',\n",
        "                           \"('D4', 'anonymized_market_sector')\":'setor de mercado anonimo',\n",
        "                          \n",
        "                           \"('D6', 'anonymized_role')\":'papel anonimo' \"('P16', 'salary_range')\",\n",
        " \"('P17', 'time_experience_data_science')\":'tempo de experiencia com data_science',\n",
        " \"('P18', 'time_experience_before')\":'tempo de exp. antes de data_science',\n",
        " \"('P19', 'is_data_science_professional')\":'é profissional de dados',\n",
        " \"('P31', 'do_not_know_data_hackers')\":'nao conhece data hackers',\n",
        " \"('P32', 'prefered_data_hackers_initiative')\":'preferencia dos hackers de dados',\n",
        " \"('P22', 'most_used_proggraming_languages')\":'linguagens mais usadas',\n",
        " \"('P24', 'other')\":'clouds',\n",
        " \"('P25', 'cloud_própria')\":'cloud propria',\n",
        " \"('P25', 'azure')\":'azure',\n",
        " \"('P25', 'ibm')\":'ibm',\n",
        " \"('P25', 'aws')\":'amazon',\n",
        " \"('P20', 'no_listed_methods')\":'metodo não listado',\n",
        " \"('P30', 'teradata')\":'teradata',\n",
        "\n",
        "\"('P26', 'mysql')\":'mysql',\n",
        " \"('P26', 'oracle')\":'oracle',\n",
        " \"('P26', 'sql_server')\":'sql server',\n",
        " \"('P26', 'aurora')\":'aurora',\n",
        " \"('P26', 'dynamodb')\":'dynamodb',\n",
        " \"('P26', 'coachdb')\":'coachdb',\n",
        " \"('P26', 'cassandra')\":'cassandra',\n",
        " \"('P26', 'mongodb')\":'mongodb',\n",
        " \"('P26', 'mariadb')\":'mariadb',\n",
        " \"('P26', 'datomic')\":'datomic',\n",
        " \"('P26', 's3')\":'s3',\n",
        " \"('P26', 'postgresql')\":'postgresql',\n",
        " \"('P26', 'elaticsearch')\":'elaticsearch',\n",
        " \"('P26', 'db2')\":'db2',\n",
        " \"('P26', 'ms_access')\":'ms_acess',\n",
        " \"('P26', 'sqlite')\":'sqlite',\n",
        " \"('P26', 'sybase')\":'sybase',\n",
        " \"('P26', 'firebase')\":'firebase',\n",
        " \"('P26', 'vertica')\":'vertica',\n",
        " \"('P26', 'redis')\":'redis',\n",
        " \"('P26', 'neo4j')\":'neo4j',\n",
        " \"('P26', 'google_bigtable')\":'google bigtable',\n",
        " \"('P26', 'hbase')\":'hbase',\n",
        " \"('P34', 'online_courses')\":'cursos online'\n",
        "}, inplace = True)"
      ],
      "metadata": {
        "id": "GzFSlRMVQfUX"
      },
      "execution_count": null,
      "outputs": []
    },
    {
      "cell_type": "markdown",
      "source": [
        "-"
      ],
      "metadata": {
        "id": "wAFFArwL5ebk"
      }
    },
    {
      "cell_type": "markdown",
      "source": [
        "-"
      ],
      "metadata": {
        "id": "27qSMM2o5eZY"
      }
    },
    {
      "cell_type": "markdown",
      "source": [
        "-"
      ],
      "metadata": {
        "id": "eyCfWMz-5eWz"
      }
    },
    {
      "cell_type": "markdown",
      "source": [
        "-"
      ],
      "metadata": {
        "id": "GE5CiEby5eTd"
      }
    },
    {
      "cell_type": "markdown",
      "source": [
        "-"
      ],
      "metadata": {
        "id": "uuFh8SFu5eP_"
      }
    },
    {
      "cell_type": "code",
      "source": [
        "pesquisa"
      ],
      "metadata": {
        "colab": {
          "base_uri": "https://localhost:8080/",
          "height": 957
        },
        "id": "RRihvowhVJzR",
        "outputId": "56965774-f802-4905-aff1-08abcb868a07"
      },
      "execution_count": null,
      "outputs": [
        {
          "output_type": "execute_result",
          "data": {
            "text/plain": [
              "                         identificador  idade     genero  mora no brasil  \\\n",
              "0     v9otv8j9wdvjrv9otvwnn9owhzq54ktv   37.0  Masculino               1   \n",
              "1     875ul998t0hqcv0871uptwf3oswcfv35   24.0   Feminino               1   \n",
              "2     puscuk079vw1pusbb900pzw2xvpxtgdk   26.0  Masculino               1   \n",
              "3     rmel8ewqpbffp2mnfbzermel8eqincov   21.0  Masculino               1   \n",
              "4     pj9mgud4d6mdct1l7vq0pj9mgu78h6ju   27.0  Masculino               1   \n",
              "...                                ...    ...        ...             ...   \n",
              "1760  qkjyuc8dayrrqahyjqkj841kpgymnpau   23.0   Feminino               1   \n",
              "1761  7z5vvw7ycrxn4sujnv7z5vvw7r36gi5k   39.0  Masculino               1   \n",
              "1762  0s2jaountv3tyrae0sir4jd8o5hz19ob   36.0  Masculino               1   \n",
              "1763  r3kvh535z7xai2v8er3kv791tkmcysz8   29.0  Masculino               1   \n",
              "1764  1cz0hm5i92rw913f1cz0hmvferfavkkb   22.0        NaN               0   \n",
              "\n",
              "          estado brasil  nascido ou graduado          nivel de graduação  \\\n",
              "0     Minas Gerais (MG)                  1.0      Estudante de Graduação   \n",
              "1        São Paulo (SP)                  1.0      Estudante de Graduação   \n",
              "2        São Paulo (SP)                  1.0       Graduação/Bacharelado   \n",
              "3        São Paulo (SP)                  0.0      Estudante de Graduação   \n",
              "4                   NaN                  1.0       Graduação/Bacharelado   \n",
              "...                 ...                  ...                         ...   \n",
              "1760  Minas Gerais (MG)                  1.0       Graduação/Bacharelado   \n",
              "1761     São Paulo (SP)                  1.0      Estudante de Graduação   \n",
              "1762        Paraná (PR)                  0.0               Pós-graduação   \n",
              "1763  Minas Gerais (MG)                  1.0  Não tenho graduação formal   \n",
              "1764                NaN                  NaN  Não tenho graduação formal   \n",
              "\n",
              "                    situação do trabalho numero de trabalhadores  gerente  \\\n",
              "0                        Empregado (CTL)                de 1 a 5      0.0   \n",
              "1                        Empregado (CTL)           Acima de 3000      0.0   \n",
              "2                        Empregado (CTL)           Acima de 3000      0.0   \n",
              "3                             Estagiário              de 11 a 50      0.0   \n",
              "4                             Freelancer               de 6 a 10      1.0   \n",
              "...                                  ...                     ...      ...   \n",
              "1760  Desempregado, buscando recolocação                     NaN      NaN   \n",
              "1761                     Empregado (CTL)          de 1001 a 3000      0.0   \n",
              "1762                     Empregado (CTL)           Acima de 3000      0.0   \n",
              "1763    Empreendedor ou Empregado (CNPJ)              de 11 a 50      1.0   \n",
              "1764                   Prefiro não dizer           Acima de 3000      0.0   \n",
              "\n",
              "      ... outros preferencia de plataformas    outras plataformas  \\\n",
              "0     ...      0    Nunca fiz cursos online                   NaN   \n",
              "1     ...      1                        NaN  Data Science Academy   \n",
              "2     ...      0                      Udemy                   NaN   \n",
              "3     ...      0                      Alura                   NaN   \n",
              "4     ...      0                      Udemy                   NaN   \n",
              "...   ...    ...                        ...                   ...   \n",
              "1760  ...      0                      Udemy                   NaN   \n",
              "1761  ...      0                      Udemy                   NaN   \n",
              "1762  ...      0                      Udemy                   NaN   \n",
              "1763  ...      0                    Udacity                   NaN   \n",
              "1764  ...      0                      Udemy                   NaN   \n",
              "\n",
              "      sorteio de participação  mora da região  região de origem  \\\n",
              "0                         1.0  Região Sudeste               NaN   \n",
              "1                         0.0  Região Sudeste               NaN   \n",
              "2                         1.0  Região Sudeste               NaN   \n",
              "3                         1.0  Região Sudeste    Região Sudeste   \n",
              "4                         1.0             NaN               NaN   \n",
              "...                       ...             ...               ...   \n",
              "1760                      0.0  Região Sudeste               NaN   \n",
              "1761                      1.0  Região Sudeste               NaN   \n",
              "1762                      1.0      Região Sul   Região Nordeste   \n",
              "1763                      0.0  Região Sudeste               NaN   \n",
              "1764                      0.0             NaN               NaN   \n",
              "\n",
              "                              área de graduação anonima  \\\n",
              "0     Computação / Engenharia de Software / Sistemas...   \n",
              "1     Computação / Engenharia de Software / Sistemas...   \n",
              "2                                    Outras Engenharias   \n",
              "3     Computação / Engenharia de Software / Sistemas...   \n",
              "4     Computação / Engenharia de Software / Sistemas...   \n",
              "...                                                 ...   \n",
              "1760                                             Outras   \n",
              "1761  Computação / Engenharia de Software / Sistemas...   \n",
              "1762  Computação / Engenharia de Software / Sistemas...   \n",
              "1763                                                NaN   \n",
              "1764                                                NaN   \n",
              "\n",
              "            setor de mercado anonimo  ('D5', 'anonymized_manager_level')  \\\n",
              "0                             Outras                                 NaN   \n",
              "1                           Educação                                 NaN   \n",
              "2             Indústria (Manufatura)                                 NaN   \n",
              "3     Tecnologia/Fábrica de Software                                 NaN   \n",
              "4                 Internet/Ecommerce             C-level (CDO, CIO, CTO)   \n",
              "...                              ...                                 ...   \n",
              "1760                             NaN                                 NaN   \n",
              "1761  Tecnologia/Fábrica de Software                                 NaN   \n",
              "1762  Tecnologia/Fábrica de Software                                 NaN   \n",
              "1763  Tecnologia/Fábrica de Software             C-level (CDO, CIO, CTO)   \n",
              "1764               Setor Alimentício                                 NaN   \n",
              "\n",
              "       papel anonimo('P16', 'salary_range')  \n",
              "0                                    Outras  \n",
              "1            Data Analyst/Analista de Dados  \n",
              "2                                    Outras  \n",
              "3      Business Intelligence/Analista de BI  \n",
              "4                                       NaN  \n",
              "...                                     ...  \n",
              "1760                                    NaN  \n",
              "1761  Business Analyst/Analista de Negócios  \n",
              "1762      Data Engineer/Engenheiro de Dados  \n",
              "1763      Data Engineer/Engenheiro de Dados  \n",
              "1764                            Estatístico  \n",
              "\n",
              "[1765 rows x 170 columns]"
            ],
            "text/html": [
              "\n",
              "  <div id=\"df-56d7990d-f468-4295-89a5-615d7ae9ed87\">\n",
              "    <div class=\"colab-df-container\">\n",
              "      <div>\n",
              "<style scoped>\n",
              "    .dataframe tbody tr th:only-of-type {\n",
              "        vertical-align: middle;\n",
              "    }\n",
              "\n",
              "    .dataframe tbody tr th {\n",
              "        vertical-align: top;\n",
              "    }\n",
              "\n",
              "    .dataframe thead th {\n",
              "        text-align: right;\n",
              "    }\n",
              "</style>\n",
              "<table border=\"1\" class=\"dataframe\">\n",
              "  <thead>\n",
              "    <tr style=\"text-align: right;\">\n",
              "      <th></th>\n",
              "      <th>identificador</th>\n",
              "      <th>idade</th>\n",
              "      <th>genero</th>\n",
              "      <th>mora no brasil</th>\n",
              "      <th>estado brasil</th>\n",
              "      <th>nascido ou graduado</th>\n",
              "      <th>nivel de graduação</th>\n",
              "      <th>situação do trabalho</th>\n",
              "      <th>numero de trabalhadores</th>\n",
              "      <th>gerente</th>\n",
              "      <th>...</th>\n",
              "      <th>outros</th>\n",
              "      <th>preferencia de plataformas</th>\n",
              "      <th>outras plataformas</th>\n",
              "      <th>sorteio de participação</th>\n",
              "      <th>mora da região</th>\n",
              "      <th>região de origem</th>\n",
              "      <th>área de graduação anonima</th>\n",
              "      <th>setor de mercado anonimo</th>\n",
              "      <th>('D5', 'anonymized_manager_level')</th>\n",
              "      <th>papel anonimo('P16', 'salary_range')</th>\n",
              "    </tr>\n",
              "  </thead>\n",
              "  <tbody>\n",
              "    <tr>\n",
              "      <th>0</th>\n",
              "      <td>v9otv8j9wdvjrv9otvwnn9owhzq54ktv</td>\n",
              "      <td>37.0</td>\n",
              "      <td>Masculino</td>\n",
              "      <td>1</td>\n",
              "      <td>Minas Gerais (MG)</td>\n",
              "      <td>1.0</td>\n",
              "      <td>Estudante de Graduação</td>\n",
              "      <td>Empregado (CTL)</td>\n",
              "      <td>de 1 a 5</td>\n",
              "      <td>0.0</td>\n",
              "      <td>...</td>\n",
              "      <td>0</td>\n",
              "      <td>Nunca fiz cursos online</td>\n",
              "      <td>NaN</td>\n",
              "      <td>1.0</td>\n",
              "      <td>Região Sudeste</td>\n",
              "      <td>NaN</td>\n",
              "      <td>Computação / Engenharia de Software / Sistemas...</td>\n",
              "      <td>Outras</td>\n",
              "      <td>NaN</td>\n",
              "      <td>Outras</td>\n",
              "    </tr>\n",
              "    <tr>\n",
              "      <th>1</th>\n",
              "      <td>875ul998t0hqcv0871uptwf3oswcfv35</td>\n",
              "      <td>24.0</td>\n",
              "      <td>Feminino</td>\n",
              "      <td>1</td>\n",
              "      <td>São Paulo (SP)</td>\n",
              "      <td>1.0</td>\n",
              "      <td>Estudante de Graduação</td>\n",
              "      <td>Empregado (CTL)</td>\n",
              "      <td>Acima de 3000</td>\n",
              "      <td>0.0</td>\n",
              "      <td>...</td>\n",
              "      <td>1</td>\n",
              "      <td>NaN</td>\n",
              "      <td>Data Science Academy</td>\n",
              "      <td>0.0</td>\n",
              "      <td>Região Sudeste</td>\n",
              "      <td>NaN</td>\n",
              "      <td>Computação / Engenharia de Software / Sistemas...</td>\n",
              "      <td>Educação</td>\n",
              "      <td>NaN</td>\n",
              "      <td>Data Analyst/Analista de Dados</td>\n",
              "    </tr>\n",
              "    <tr>\n",
              "      <th>2</th>\n",
              "      <td>puscuk079vw1pusbb900pzw2xvpxtgdk</td>\n",
              "      <td>26.0</td>\n",
              "      <td>Masculino</td>\n",
              "      <td>1</td>\n",
              "      <td>São Paulo (SP)</td>\n",
              "      <td>1.0</td>\n",
              "      <td>Graduação/Bacharelado</td>\n",
              "      <td>Empregado (CTL)</td>\n",
              "      <td>Acima de 3000</td>\n",
              "      <td>0.0</td>\n",
              "      <td>...</td>\n",
              "      <td>0</td>\n",
              "      <td>Udemy</td>\n",
              "      <td>NaN</td>\n",
              "      <td>1.0</td>\n",
              "      <td>Região Sudeste</td>\n",
              "      <td>NaN</td>\n",
              "      <td>Outras Engenharias</td>\n",
              "      <td>Indústria (Manufatura)</td>\n",
              "      <td>NaN</td>\n",
              "      <td>Outras</td>\n",
              "    </tr>\n",
              "    <tr>\n",
              "      <th>3</th>\n",
              "      <td>rmel8ewqpbffp2mnfbzermel8eqincov</td>\n",
              "      <td>21.0</td>\n",
              "      <td>Masculino</td>\n",
              "      <td>1</td>\n",
              "      <td>São Paulo (SP)</td>\n",
              "      <td>0.0</td>\n",
              "      <td>Estudante de Graduação</td>\n",
              "      <td>Estagiário</td>\n",
              "      <td>de 11 a 50</td>\n",
              "      <td>0.0</td>\n",
              "      <td>...</td>\n",
              "      <td>0</td>\n",
              "      <td>Alura</td>\n",
              "      <td>NaN</td>\n",
              "      <td>1.0</td>\n",
              "      <td>Região Sudeste</td>\n",
              "      <td>Região Sudeste</td>\n",
              "      <td>Computação / Engenharia de Software / Sistemas...</td>\n",
              "      <td>Tecnologia/Fábrica de Software</td>\n",
              "      <td>NaN</td>\n",
              "      <td>Business Intelligence/Analista de BI</td>\n",
              "    </tr>\n",
              "    <tr>\n",
              "      <th>4</th>\n",
              "      <td>pj9mgud4d6mdct1l7vq0pj9mgu78h6ju</td>\n",
              "      <td>27.0</td>\n",
              "      <td>Masculino</td>\n",
              "      <td>1</td>\n",
              "      <td>NaN</td>\n",
              "      <td>1.0</td>\n",
              "      <td>Graduação/Bacharelado</td>\n",
              "      <td>Freelancer</td>\n",
              "      <td>de 6 a 10</td>\n",
              "      <td>1.0</td>\n",
              "      <td>...</td>\n",
              "      <td>0</td>\n",
              "      <td>Udemy</td>\n",
              "      <td>NaN</td>\n",
              "      <td>1.0</td>\n",
              "      <td>NaN</td>\n",
              "      <td>NaN</td>\n",
              "      <td>Computação / Engenharia de Software / Sistemas...</td>\n",
              "      <td>Internet/Ecommerce</td>\n",
              "      <td>C-level (CDO, CIO, CTO)</td>\n",
              "      <td>NaN</td>\n",
              "    </tr>\n",
              "    <tr>\n",
              "      <th>...</th>\n",
              "      <td>...</td>\n",
              "      <td>...</td>\n",
              "      <td>...</td>\n",
              "      <td>...</td>\n",
              "      <td>...</td>\n",
              "      <td>...</td>\n",
              "      <td>...</td>\n",
              "      <td>...</td>\n",
              "      <td>...</td>\n",
              "      <td>...</td>\n",
              "      <td>...</td>\n",
              "      <td>...</td>\n",
              "      <td>...</td>\n",
              "      <td>...</td>\n",
              "      <td>...</td>\n",
              "      <td>...</td>\n",
              "      <td>...</td>\n",
              "      <td>...</td>\n",
              "      <td>...</td>\n",
              "      <td>...</td>\n",
              "      <td>...</td>\n",
              "    </tr>\n",
              "    <tr>\n",
              "      <th>1760</th>\n",
              "      <td>qkjyuc8dayrrqahyjqkj841kpgymnpau</td>\n",
              "      <td>23.0</td>\n",
              "      <td>Feminino</td>\n",
              "      <td>1</td>\n",
              "      <td>Minas Gerais (MG)</td>\n",
              "      <td>1.0</td>\n",
              "      <td>Graduação/Bacharelado</td>\n",
              "      <td>Desempregado, buscando recolocação</td>\n",
              "      <td>NaN</td>\n",
              "      <td>NaN</td>\n",
              "      <td>...</td>\n",
              "      <td>0</td>\n",
              "      <td>Udemy</td>\n",
              "      <td>NaN</td>\n",
              "      <td>0.0</td>\n",
              "      <td>Região Sudeste</td>\n",
              "      <td>NaN</td>\n",
              "      <td>Outras</td>\n",
              "      <td>NaN</td>\n",
              "      <td>NaN</td>\n",
              "      <td>NaN</td>\n",
              "    </tr>\n",
              "    <tr>\n",
              "      <th>1761</th>\n",
              "      <td>7z5vvw7ycrxn4sujnv7z5vvw7r36gi5k</td>\n",
              "      <td>39.0</td>\n",
              "      <td>Masculino</td>\n",
              "      <td>1</td>\n",
              "      <td>São Paulo (SP)</td>\n",
              "      <td>1.0</td>\n",
              "      <td>Estudante de Graduação</td>\n",
              "      <td>Empregado (CTL)</td>\n",
              "      <td>de 1001 a 3000</td>\n",
              "      <td>0.0</td>\n",
              "      <td>...</td>\n",
              "      <td>0</td>\n",
              "      <td>Udemy</td>\n",
              "      <td>NaN</td>\n",
              "      <td>1.0</td>\n",
              "      <td>Região Sudeste</td>\n",
              "      <td>NaN</td>\n",
              "      <td>Computação / Engenharia de Software / Sistemas...</td>\n",
              "      <td>Tecnologia/Fábrica de Software</td>\n",
              "      <td>NaN</td>\n",
              "      <td>Business Analyst/Analista de Negócios</td>\n",
              "    </tr>\n",
              "    <tr>\n",
              "      <th>1762</th>\n",
              "      <td>0s2jaountv3tyrae0sir4jd8o5hz19ob</td>\n",
              "      <td>36.0</td>\n",
              "      <td>Masculino</td>\n",
              "      <td>1</td>\n",
              "      <td>Paraná (PR)</td>\n",
              "      <td>0.0</td>\n",
              "      <td>Pós-graduação</td>\n",
              "      <td>Empregado (CTL)</td>\n",
              "      <td>Acima de 3000</td>\n",
              "      <td>0.0</td>\n",
              "      <td>...</td>\n",
              "      <td>0</td>\n",
              "      <td>Udemy</td>\n",
              "      <td>NaN</td>\n",
              "      <td>1.0</td>\n",
              "      <td>Região Sul</td>\n",
              "      <td>Região Nordeste</td>\n",
              "      <td>Computação / Engenharia de Software / Sistemas...</td>\n",
              "      <td>Tecnologia/Fábrica de Software</td>\n",
              "      <td>NaN</td>\n",
              "      <td>Data Engineer/Engenheiro de Dados</td>\n",
              "    </tr>\n",
              "    <tr>\n",
              "      <th>1763</th>\n",
              "      <td>r3kvh535z7xai2v8er3kv791tkmcysz8</td>\n",
              "      <td>29.0</td>\n",
              "      <td>Masculino</td>\n",
              "      <td>1</td>\n",
              "      <td>Minas Gerais (MG)</td>\n",
              "      <td>1.0</td>\n",
              "      <td>Não tenho graduação formal</td>\n",
              "      <td>Empreendedor ou Empregado (CNPJ)</td>\n",
              "      <td>de 11 a 50</td>\n",
              "      <td>1.0</td>\n",
              "      <td>...</td>\n",
              "      <td>0</td>\n",
              "      <td>Udacity</td>\n",
              "      <td>NaN</td>\n",
              "      <td>0.0</td>\n",
              "      <td>Região Sudeste</td>\n",
              "      <td>NaN</td>\n",
              "      <td>NaN</td>\n",
              "      <td>Tecnologia/Fábrica de Software</td>\n",
              "      <td>C-level (CDO, CIO, CTO)</td>\n",
              "      <td>Data Engineer/Engenheiro de Dados</td>\n",
              "    </tr>\n",
              "    <tr>\n",
              "      <th>1764</th>\n",
              "      <td>1cz0hm5i92rw913f1cz0hmvferfavkkb</td>\n",
              "      <td>22.0</td>\n",
              "      <td>NaN</td>\n",
              "      <td>0</td>\n",
              "      <td>NaN</td>\n",
              "      <td>NaN</td>\n",
              "      <td>Não tenho graduação formal</td>\n",
              "      <td>Prefiro não dizer</td>\n",
              "      <td>Acima de 3000</td>\n",
              "      <td>0.0</td>\n",
              "      <td>...</td>\n",
              "      <td>0</td>\n",
              "      <td>Udemy</td>\n",
              "      <td>NaN</td>\n",
              "      <td>0.0</td>\n",
              "      <td>NaN</td>\n",
              "      <td>NaN</td>\n",
              "      <td>NaN</td>\n",
              "      <td>Setor Alimentício</td>\n",
              "      <td>NaN</td>\n",
              "      <td>Estatístico</td>\n",
              "    </tr>\n",
              "  </tbody>\n",
              "</table>\n",
              "<p>1765 rows × 170 columns</p>\n",
              "</div>\n",
              "      <button class=\"colab-df-convert\" onclick=\"convertToInteractive('df-56d7990d-f468-4295-89a5-615d7ae9ed87')\"\n",
              "              title=\"Convert this dataframe to an interactive table.\"\n",
              "              style=\"display:none;\">\n",
              "        \n",
              "  <svg xmlns=\"http://www.w3.org/2000/svg\" height=\"24px\"viewBox=\"0 0 24 24\"\n",
              "       width=\"24px\">\n",
              "    <path d=\"M0 0h24v24H0V0z\" fill=\"none\"/>\n",
              "    <path d=\"M18.56 5.44l.94 2.06.94-2.06 2.06-.94-2.06-.94-.94-2.06-.94 2.06-2.06.94zm-11 1L8.5 8.5l.94-2.06 2.06-.94-2.06-.94L8.5 2.5l-.94 2.06-2.06.94zm10 10l.94 2.06.94-2.06 2.06-.94-2.06-.94-.94-2.06-.94 2.06-2.06.94z\"/><path d=\"M17.41 7.96l-1.37-1.37c-.4-.4-.92-.59-1.43-.59-.52 0-1.04.2-1.43.59L10.3 9.45l-7.72 7.72c-.78.78-.78 2.05 0 2.83L4 21.41c.39.39.9.59 1.41.59.51 0 1.02-.2 1.41-.59l7.78-7.78 2.81-2.81c.8-.78.8-2.07 0-2.86zM5.41 20L4 18.59l7.72-7.72 1.47 1.35L5.41 20z\"/>\n",
              "  </svg>\n",
              "      </button>\n",
              "      \n",
              "  <style>\n",
              "    .colab-df-container {\n",
              "      display:flex;\n",
              "      flex-wrap:wrap;\n",
              "      gap: 12px;\n",
              "    }\n",
              "\n",
              "    .colab-df-convert {\n",
              "      background-color: #E8F0FE;\n",
              "      border: none;\n",
              "      border-radius: 50%;\n",
              "      cursor: pointer;\n",
              "      display: none;\n",
              "      fill: #1967D2;\n",
              "      height: 32px;\n",
              "      padding: 0 0 0 0;\n",
              "      width: 32px;\n",
              "    }\n",
              "\n",
              "    .colab-df-convert:hover {\n",
              "      background-color: #E2EBFA;\n",
              "      box-shadow: 0px 1px 2px rgba(60, 64, 67, 0.3), 0px 1px 3px 1px rgba(60, 64, 67, 0.15);\n",
              "      fill: #174EA6;\n",
              "    }\n",
              "\n",
              "    [theme=dark] .colab-df-convert {\n",
              "      background-color: #3B4455;\n",
              "      fill: #D2E3FC;\n",
              "    }\n",
              "\n",
              "    [theme=dark] .colab-df-convert:hover {\n",
              "      background-color: #434B5C;\n",
              "      box-shadow: 0px 1px 3px 1px rgba(0, 0, 0, 0.15);\n",
              "      filter: drop-shadow(0px 1px 2px rgba(0, 0, 0, 0.3));\n",
              "      fill: #FFFFFF;\n",
              "    }\n",
              "  </style>\n",
              "\n",
              "      <script>\n",
              "        const buttonEl =\n",
              "          document.querySelector('#df-56d7990d-f468-4295-89a5-615d7ae9ed87 button.colab-df-convert');\n",
              "        buttonEl.style.display =\n",
              "          google.colab.kernel.accessAllowed ? 'block' : 'none';\n",
              "\n",
              "        async function convertToInteractive(key) {\n",
              "          const element = document.querySelector('#df-56d7990d-f468-4295-89a5-615d7ae9ed87');\n",
              "          const dataTable =\n",
              "            await google.colab.kernel.invokeFunction('convertToInteractive',\n",
              "                                                     [key], {});\n",
              "          if (!dataTable) return;\n",
              "\n",
              "          const docLinkHtml = 'Like what you see? Visit the ' +\n",
              "            '<a target=\"_blank\" href=https://colab.research.google.com/notebooks/data_table.ipynb>data table notebook</a>'\n",
              "            + ' to learn more about interactive tables.';\n",
              "          element.innerHTML = '';\n",
              "          dataTable['output_type'] = 'display_data';\n",
              "          await google.colab.output.renderOutput(dataTable, element);\n",
              "          const docLink = document.createElement('div');\n",
              "          docLink.innerHTML = docLinkHtml;\n",
              "          element.appendChild(docLink);\n",
              "        }\n",
              "      </script>\n",
              "    </div>\n",
              "  </div>\n",
              "  "
            ]
          },
          "metadata": {},
          "execution_count": 5
        }
      ]
    },
    {
      "cell_type": "markdown",
      "source": [
        "###1. Pergunta_1 (P1) = média de Idade sexo feminino? "
      ],
      "metadata": {
        "id": "0x9hkmeia-h2"
      }
    },
    {
      "cell_type": "code",
      "source": [
        "pesquisa['idade'].loc[(pesquisa['genero'] == 'Feminino')].mean()"
      ],
      "metadata": {
        "colab": {
          "base_uri": "https://localhost:8080/"
        },
        "id": "9aqwQ98fVKXd",
        "outputId": "f2ae949e-bdeb-40a8-8067-5a90531a54db"
      },
      "execution_count": null,
      "outputs": [
        {
          "output_type": "execute_result",
          "data": {
            "text/plain": [
              "29.09090909090909"
            ]
          },
          "metadata": {},
          "execution_count": 26
        }
      ]
    },
    {
      "cell_type": "markdown",
      "source": [
        "###1. Pergunta_1 (P1) = média de Idade sexo masculino?"
      ],
      "metadata": {
        "id": "iZaBV7_jcdz1"
      }
    },
    {
      "cell_type": "code",
      "source": [
        "pesquisa['idade'].loc[(pesquisa['genero'] == 'Masculino')].mean()"
      ],
      "metadata": {
        "colab": {
          "base_uri": "https://localhost:8080/"
        },
        "id": "Z9tZqV7scGVz",
        "outputId": "c6f18425-328e-4521-91d2-80663e1c890c"
      },
      "execution_count": null,
      "outputs": [
        {
          "output_type": "execute_result",
          "data": {
            "text/plain": [
              "29.976039464411556"
            ]
          },
          "metadata": {},
          "execution_count": 27
        }
      ]
    },
    {
      "cell_type": "code",
      "source": [
        "pesquisa['identificador'].groupby(pesquisa['genero']).count().plot(kind='bar')"
      ],
      "metadata": {
        "colab": {
          "base_uri": "https://localhost:8080/",
          "height": 336
        },
        "id": "sznabadA0qea",
        "outputId": "8e01d114-27c0-4511-b771-5c9865b0e438"
      },
      "execution_count": null,
      "outputs": [
        {
          "output_type": "execute_result",
          "data": {
            "text/plain": [
              "<matplotlib.axes._subplots.AxesSubplot at 0x7fb326740310>"
            ]
          },
          "metadata": {},
          "execution_count": 94
        },
        {
          "output_type": "display_data",
          "data": {
            "text/plain": [
              "<Figure size 432x288 with 1 Axes>"
            ],
            "image/png": "[encoded data removed]"
          },
          "metadata": {
            "needs_background": "light"
          }
        }
      ]
    },
    {
      "cell_type": "markdown",
      "source": [
        "###2. Pergunta_2 (P2) =  quantos são do gênero feminino? "
      ],
      "metadata": {
        "id": "6eh-awUtcQMz"
      }
    },
    {
      "cell_type": "code",
      "source": [
        "pesquisa['identificador'].loc[(pesquisa['genero'] == 'Feminino')].count()"
      ],
      "metadata": {
        "colab": {
          "base_uri": "https://localhost:8080/"
        },
        "id": "ThfYIfZocUse",
        "outputId": "7e9ef5f9-6990-4e82-afee-28709e1cb329"
      },
      "execution_count": null,
      "outputs": [
        {
          "output_type": "execute_result",
          "data": {
            "text/plain": [
              "326"
            ]
          },
          "metadata": {},
          "execution_count": 28
        }
      ]
    },
    {
      "cell_type": "markdown",
      "source": [
        "###2. Pergunta_2 (P2) = quantos são do gênero masculino?"
      ],
      "metadata": {
        "id": "RrychRKUcqNh"
      }
    },
    {
      "cell_type": "code",
      "source": [
        "pesquisa['identificador'].loc[(pesquisa['genero'] == 'Masculino')].count()"
      ],
      "metadata": {
        "colab": {
          "base_uri": "https://localhost:8080/"
        },
        "id": "8Ni3fgE7csGz",
        "outputId": "4681b463-d2ea-45ea-90d0-2e1a8d90479d"
      },
      "execution_count": null,
      "outputs": [
        {
          "output_type": "execute_result",
          "data": {
            "text/plain": [
              "1436"
            ]
          },
          "metadata": {},
          "execution_count": 29
        }
      ]
    },
    {
      "cell_type": "code",
      "source": [
        "pesquisa['identificador'].groupby(pesquisa['genero']).count().plot(kind='bar')"
      ],
      "metadata": {
        "colab": {
          "base_uri": "https://localhost:8080/",
          "height": 336
        },
        "id": "uW2yWFeK1eBX",
        "outputId": "94971068-3b55-4eef-ba96-391e43561526"
      },
      "execution_count": null,
      "outputs": [
        {
          "output_type": "execute_result",
          "data": {
            "text/plain": [
              "<matplotlib.axes._subplots.AxesSubplot at 0x7fb3266b3850>"
            ]
          },
          "metadata": {},
          "execution_count": 98
        },
        {
          "output_type": "display_data",
          "data": {
            "text/plain": [
              "<Figure size 432x288 with 1 Axes>"
            ],
            "image/png": "[encoded data removed]"
          },
          "metadata": {
            "needs_background": "light"
          }
        }
      ]
    },
    {
      "cell_type": "markdown",
      "source": [
        "###8. Pergunta_8 (P8) = Qual seu nível de ensino sexo feminino? "
      ],
      "metadata": {
        "id": "vOXevytAdgGH"
      }
    },
    {
      "cell_type": "code",
      "source": [
        "pesquisa['identificador'].loc[pesquisa['genero']=='Feminino'].groupby(pesquisa['nivel de graduação']).count()"
      ],
      "metadata": {
        "colab": {
          "base_uri": "https://localhost:8080/"
        },
        "id": "y_JQflpddlA5",
        "outputId": "8c488b36-b31a-45b2-8124-4a623afdb9b9"
      },
      "execution_count": null,
      "outputs": [
        {
          "output_type": "execute_result",
          "data": {
            "text/plain": [
              "nivel de graduação\n",
              "Doutorado ou Phd               14\n",
              "Estudante de Graduação         65\n",
              "Graduação/Bacharelado          91\n",
              "Mestrado                       43\n",
              "Não tenho graduação formal      6\n",
              "Prefiro não informar            1\n",
              "Pós-graduação                 106\n",
              "Name: identificador, dtype: int64"
            ]
          },
          "metadata": {},
          "execution_count": 46
        }
      ]
    },
    {
      "cell_type": "code",
      "source": [
        "pesquisa['identificador'].loc[pesquisa['genero']=='Masculino'].groupby(pesquisa['nivel de graduação']).count().plot(kind='bar')"
      ],
      "metadata": {
        "colab": {
          "base_uri": "https://localhost:8080/",
          "height": 429
        },
        "id": "NRRNVJet04Lf",
        "outputId": "8bd210cd-477e-4b57-af20-c81353bb94b3"
      },
      "execution_count": null,
      "outputs": [
        {
          "output_type": "execute_result",
          "data": {
            "text/plain": [
              "<matplotlib.axes._subplots.AxesSubplot at 0x7fb3266cc310>"
            ]
          },
          "metadata": {},
          "execution_count": 97
        },
        {
          "output_type": "display_data",
          "data": {
            "text/plain": [
              "<Figure size 432x288 with 1 Axes>"
            ],
            "image/png": "[encoded data removed]"
          },
          "metadata": {
            "needs_background": "light"
          }
        }
      ]
    },
    {
      "cell_type": "markdown",
      "source": [
        "-"
      ],
      "metadata": {
        "id": "VuJUW0Xm_ZmI"
      }
    },
    {
      "cell_type": "markdown",
      "source": [
        "-"
      ],
      "metadata": {
        "id": "MTCdq0Cx_Zjx"
      }
    },
    {
      "cell_type": "markdown",
      "source": [
        "-"
      ],
      "metadata": {
        "id": "iop0TDHt_ZhH"
      }
    },
    {
      "cell_type": "markdown",
      "source": [
        "-"
      ],
      "metadata": {
        "id": "z1ObB9ED_ZX_"
      }
    },
    {
      "cell_type": "markdown",
      "source": [
        "###8. Pergunta_8 (P8) = Qual seu nível de ensino sexo masculino?"
      ],
      "metadata": {
        "id": "nvEKbE7AfYpU"
      }
    },
    {
      "cell_type": "code",
      "source": [
        "pesquisa['identificador'].loc[pesquisa['genero']=='Masculino'].groupby(pesquisa['nivel de graduação']).count()"
      ],
      "metadata": {
        "colab": {
          "base_uri": "https://localhost:8080/"
        },
        "id": "Yfsa4RVtcuir",
        "outputId": "7fdf3855-0ebd-4080-b9b6-39602ecd0ad8"
      },
      "execution_count": null,
      "outputs": [
        {
          "output_type": "execute_result",
          "data": {
            "text/plain": [
              "nivel de graduação\n",
              "Doutorado ou Phd               34\n",
              "Estudante de Graduação        309\n",
              "Graduação/Bacharelado         487\n",
              "Mestrado                      158\n",
              "Não tenho graduação formal     27\n",
              "Pós-graduação                 421\n",
              "Name: identificador, dtype: int64"
            ]
          },
          "metadata": {},
          "execution_count": 48
        }
      ]
    },
    {
      "cell_type": "code",
      "source": [
        "pesquisa['identificador'].loc[pesquisa['genero']=='Masculino'].groupby(pesquisa['nivel de graduação']).count().plot(kind='bar')"
      ],
      "metadata": {
        "colab": {
          "base_uri": "https://localhost:8080/",
          "height": 429
        },
        "id": "fRitje6NiEO1",
        "outputId": "8fe133e5-cde1-4b1f-f842-9c97692c7618"
      },
      "execution_count": null,
      "outputs": [
        {
          "output_type": "execute_result",
          "data": {
            "text/plain": [
              "<matplotlib.axes._subplots.AxesSubplot at 0x7fc7cb412ed0>"
            ]
          },
          "metadata": {},
          "execution_count": 50
        },
        {
          "output_type": "display_data",
          "data": {
            "text/plain": [
              "<Figure size 432x288 with 1 Axes>"
            ],
            "image/png": "[encoded data removed]"
          },
          "metadata": {
            "needs_background": "light"
          }
        }
      ]
    },
    {
      "cell_type": "markdown",
      "source": [
        "### Qual o salario do grupo feminino de dados?"
      ],
      "metadata": {
        "id": "wCSJ_BWRzNZB"
      }
    },
    {
      "cell_type": "code",
      "source": [
        "pesquisa['identificador'].groupby(pesquisa['salario']).count()"
      ],
      "metadata": {
        "colab": {
          "base_uri": "https://localhost:8080/"
        },
        "id": "nDtzLRNXzbng",
        "outputId": "356b7798-9a59-437e-da33-7f0aab31a4ad"
      },
      "execution_count": null,
      "outputs": [
        {
          "output_type": "execute_result",
          "data": {
            "text/plain": [
              "salario\n",
              "Acima de R$ 25.001/mês               13\n",
              "Menos de R$ 1.000/mês                48\n",
              "de R$ 1.001/mês a R$ 2.000/mês      181\n",
              "de R$ 12.001/mês a R$ 16.000/mês     82\n",
              "de R$ 16.001/mês a R$ 20.000/mês     45\n",
              "de R$ 2.001/mês a R$ 3000/mês       150\n",
              "de R$ 20.001/mês a R$ 25.000/mês     15\n",
              "de R$ 3.001/mês a R$ 4.000/mês      219\n",
              "de R$ 4.001/mês a R$ 6.000/mês      308\n",
              "de R$ 6.001/mês a R$ 8.000/mês      229\n",
              "de R$ 8.001/mês a R$ 12.000/mês     237\n",
              "Name: identificador, dtype: int64"
            ]
          },
          "metadata": {},
          "execution_count": 88
        }
      ]
    },
    {
      "cell_type": "code",
      "source": [
        "pesquisa['identificador'].loc[pesquisa['genero']=='Feminino'].groupby(pesquisa['salario']).count().plot(kind='bar')"
      ],
      "metadata": {
        "colab": {
          "base_uri": "https://localhost:8080/",
          "height": 446
        },
        "id": "I24kdIe60CjS",
        "outputId": "0f781b18-c536-449a-d746-814e1aa0bdde"
      },
      "execution_count": null,
      "outputs": [
        {
          "output_type": "execute_result",
          "data": {
            "text/plain": [
              "<matplotlib.axes._subplots.AxesSubplot at 0x7fb326a03e10>"
            ]
          },
          "metadata": {},
          "execution_count": 90
        },
        {
          "output_type": "display_data",
          "data": {
            "text/plain": [
              "<Figure size 432x288 with 1 Axes>"
            ],
            "image/png": "[encoded data removed]"
          },
          "metadata": {
            "needs_background": "light"
          }
        }
      ]
    },
    {
      "cell_type": "markdown",
      "source": [
        "### Qual o salario do grupo masculino de dados?"
      ],
      "metadata": {
        "id": "a4Jcms7q0JMR"
      }
    },
    {
      "cell_type": "code",
      "source": [
        "pesquisa['identificador'].loc[pesquisa['genero']=='Masculino'].groupby(pesquisa['salario']).count()"
      ],
      "metadata": {
        "colab": {
          "base_uri": "https://localhost:8080/"
        },
        "id": "m31mREMu0Meq",
        "outputId": "6e40a2ae-0fc2-4030-9e18-ec9029b5c543"
      },
      "execution_count": null,
      "outputs": [
        {
          "output_type": "execute_result",
          "data": {
            "text/plain": [
              "salario\n",
              "Acima de R$ 25.001/mês               13\n",
              "Menos de R$ 1.000/mês                37\n",
              "de R$ 1.001/mês a R$ 2.000/mês      146\n",
              "de R$ 12.001/mês a R$ 16.000/mês     73\n",
              "de R$ 16.001/mês a R$ 20.000/mês     38\n",
              "de R$ 2.001/mês a R$ 3000/mês       117\n",
              "de R$ 20.001/mês a R$ 25.000/mês     14\n",
              "de R$ 3.001/mês a R$ 4.000/mês      176\n",
              "de R$ 4.001/mês a R$ 6.000/mês      238\n",
              "de R$ 6.001/mês a R$ 8.000/mês      195\n",
              "de R$ 8.001/mês a R$ 12.000/mês     208\n",
              "Name: identificador, dtype: int64"
            ]
          },
          "metadata": {},
          "execution_count": 92
        }
      ]
    },
    {
      "cell_type": "code",
      "source": [
        "pesquisa['identificador'].loc[pesquisa['genero']=='Masculino'].groupby(pesquisa['salario']).count().plot(kind='bar')"
      ],
      "metadata": {
        "colab": {
          "base_uri": "https://localhost:8080/",
          "height": 446
        },
        "id": "nqFnzLs90eX9",
        "outputId": "61148a2f-b653-4f08-e573-b02b6d51211b"
      },
      "execution_count": null,
      "outputs": [
        {
          "output_type": "execute_result",
          "data": {
            "text/plain": [
              "<matplotlib.axes._subplots.AxesSubplot at 0x7fb3268d0410>"
            ]
          },
          "metadata": {},
          "execution_count": 93
        },
        {
          "output_type": "display_data",
          "data": {
            "text/plain": [
              "<Figure size 432x288 with 1 Axes>"
            ],
            "image/png": "[encoded data removed]"
          },
          "metadata": {
            "needs_background": "light"
          }
        }
      ]
    },
    {
      "cell_type": "markdown",
      "source": [
        "###9. Pergunta_9 (P9) = área de formação das mulheres?"
      ],
      "metadata": {
        "id": "LywOyV3ukOFQ"
      }
    },
    {
      "cell_type": "code",
      "source": [
        "pesquisa['identificador'].loc[pesquisa['genero']=='Feminino'].groupby(pesquisa['área de graduação anonima']).count()"
      ],
      "metadata": {
        "colab": {
          "base_uri": "https://localhost:8080/"
        },
        "id": "NxUzb-z1V2BR",
        "outputId": "a072f8cf-054c-4289-c1d2-a3c23d26e029"
      },
      "execution_count": null,
      "outputs": [
        {
          "output_type": "execute_result",
          "data": {
            "text/plain": [
              "área de graduação anonima\n",
              "Ciências Sociais                                                  8\n",
              "Computação / Engenharia de Software / Sistemas de Informação    147\n",
              "Economia/ Administração / Contabilidade / Finanças               41\n",
              "Estatística/ Matemática / Matemática Computacional               33\n",
              "Marketing / Publicidade / Comunicação / Jornalismo               15\n",
              "Outras                                                           29\n",
              "Outras Engenharias                                               41\n",
              "Química / Física                                                  5\n",
              "Name: identificador, dtype: int64"
            ]
          },
          "metadata": {},
          "execution_count": 30
        }
      ]
    },
    {
      "cell_type": "code",
      "source": [
        "pesquisa['identificador'].loc[pesquisa['genero']=='Feminino'].groupby(pesquisa['área de graduação anonima']).count().plot(kind='bar')"
      ],
      "metadata": {
        "colab": {
          "base_uri": "https://localhost:8080/",
          "height": 609
        },
        "id": "z5eU9IGnkWFQ",
        "outputId": "02e126dd-505f-4249-a8c1-cb20a5329a59"
      },
      "execution_count": null,
      "outputs": [
        {
          "output_type": "execute_result",
          "data": {
            "text/plain": [
              "<matplotlib.axes._subplots.AxesSubplot at 0x7fc7cb1b6990>"
            ]
          },
          "metadata": {},
          "execution_count": 59
        },
        {
          "output_type": "display_data",
          "data": {
            "text/plain": [
              "<Figure size 432x288 with 1 Axes>"
            ],
            "image/png": "[encoded data removed]"
          },
          "metadata": {
            "needs_background": "light"
          }
        }
      ]
    },
    {
      "cell_type": "markdown",
      "source": [
        "###9. Pergunta_9 (P9) = área de formação dos homens?"
      ],
      "metadata": {
        "id": "3cSBCypkmOUX"
      }
    },
    {
      "cell_type": "code",
      "source": [
        "pesquisa['identificador'].loc[pesquisa['genero']=='Masculino'].groupby(pesquisa['área de graduação anonima']).count()"
      ],
      "metadata": {
        "colab": {
          "base_uri": "https://localhost:8080/"
        },
        "id": "CoCdVQgbmY4g",
        "outputId": "a4bacb1c-67db-4398-b4ff-ad3a77772786"
      },
      "execution_count": null,
      "outputs": [
        {
          "output_type": "execute_result",
          "data": {
            "text/plain": [
              "área de graduação anonima\n",
              "Ciências Sociais                                                 17\n",
              "Computação / Engenharia de Software / Sistemas de Informação    865\n",
              "Economia/ Administração / Contabilidade / Finanças              133\n",
              "Estatística/ Matemática / Matemática Computacional               71\n",
              "Marketing / Publicidade / Comunicação / Jornalismo               32\n",
              "Outras                                                           63\n",
              "Outras Engenharias                                              206\n",
              "Química / Física                                                 22\n",
              "Name: identificador, dtype: int64"
            ]
          },
          "metadata": {},
          "execution_count": 60
        }
      ]
    },
    {
      "cell_type": "code",
      "source": [
        "pesquisa['identificador'].loc[pesquisa['genero']=='Masculino'].groupby(pesquisa['área de graduação anonima']).count().plot(kind='bar')"
      ],
      "metadata": {
        "colab": {
          "base_uri": "https://localhost:8080/",
          "height": 609
        },
        "id": "e7v5l8kSmhJB",
        "outputId": "ebbada2d-981b-44b5-f32d-5fce1b37e836"
      },
      "execution_count": null,
      "outputs": [
        {
          "output_type": "execute_result",
          "data": {
            "text/plain": [
              "<matplotlib.axes._subplots.AxesSubplot at 0x7fc7cb15c710>"
            ]
          },
          "metadata": {},
          "execution_count": 61
        },
        {
          "output_type": "display_data",
          "data": {
            "text/plain": [
              "<Figure size 432x288 with 1 Axes>"
            ],
            "image/png": "[encoded data removed]"
          },
          "metadata": {
            "needs_background": "light"
          }
        }
      ]
    },
    {
      "cell_type": "markdown",
      "source": [
        "-"
      ],
      "metadata": {
        "id": "N4Doz-XHqe7M"
      }
    },
    {
      "cell_type": "markdown",
      "source": [
        "-"
      ],
      "metadata": {
        "id": "3lx9Fw1Dqe4n"
      }
    },
    {
      "cell_type": "markdown",
      "source": [
        "-"
      ],
      "metadata": {
        "id": "D5DOoqiaqe0j"
      }
    },
    {
      "cell_type": "markdown",
      "source": [
        "-"
      ],
      "metadata": {
        "id": "fTGWV_4aqev4"
      }
    },
    {
      "cell_type": "markdown",
      "source": [
        "###18. Pergunta_18 (P18) = Quanto tempo de experiência na área de TI/Engenharia de Software tem cada gênero antes de começar a trabalhar na área de dados?"
      ],
      "metadata": {
        "id": "19b192gpwTzt"
      }
    },
    {
      "cell_type": "markdown",
      "source": [
        "#####grupo feminino"
      ],
      "metadata": {
        "id": "DeJ_cqs5rNEu"
      }
    },
    {
      "cell_type": "code",
      "source": [
        "pesquisa['tempo de exp. antes de data_science'].loc[pesquisa['genero']=='Feminino'].groupby(pesquisa['tempo de exp. antes de data_science']).count()"
      ],
      "metadata": {
        "colab": {
          "base_uri": "https://localhost:8080/"
        },
        "id": "V4xIyUUomJcC",
        "outputId": "ce49c0d7-3146-4319-d0c1-e59fac4aa1e5"
      },
      "execution_count": null,
      "outputs": [
        {
          "output_type": "execute_result",
          "data": {
            "text/plain": [
              "tempo de exp. antes de data_science\n",
              "Mais de 10 anos                                                                                             15\n",
              "Menos de 1 ano                                                                                              64\n",
              "Não tive experiência na área de TI/Engenharia de Software antes de começar a trabalhar na área de dados    156\n",
              "de 1 a 2 anos                                                                                               29\n",
              "de 2 a 3 anos                                                                                               21\n",
              "de 4 a 5 anos                                                                                               21\n",
              "de 6 a 10 anos                                                                                              20\n",
              "Name: tempo de exp. antes de data_science, dtype: int64"
            ]
          },
          "metadata": {},
          "execution_count": 14
        }
      ]
    },
    {
      "cell_type": "code",
      "source": [
        "pesquisa['tempo de exp. antes de data_science'].loc[pesquisa['genero']=='Feminino'].groupby(pesquisa['tempo de exp. antes de data_science']).count().plot(kind='bar')"
      ],
      "metadata": {
        "colab": {
          "base_uri": "https://localhost:8080/",
          "height": 823
        },
        "id": "eC8dM0Aap-kh",
        "outputId": "654776d3-5b38-487d-9552-fd431e40c133"
      },
      "execution_count": null,
      "outputs": [
        {
          "output_type": "execute_result",
          "data": {
            "text/plain": [
              "<matplotlib.axes._subplots.AxesSubplot at 0x7f4fee069590>"
            ]
          },
          "metadata": {},
          "execution_count": 15
        },
        {
          "output_type": "display_data",
          "data": {
            "text/plain": [
              "<Figure size 432x288 with 1 Axes>"
            ],
            "image/png": "[encoded data removed]"
          },
          "metadata": {
            "needs_background": "light"
          }
        }
      ]
    },
    {
      "cell_type": "markdown",
      "source": [
        "#####grupo masculino"
      ],
      "metadata": {
        "id": "HtRQ9s_crRXu"
      }
    },
    {
      "cell_type": "code",
      "source": [
        "pesquisa['tempo de exp. antes de data_science'].loc[pesquisa['genero']=='Masculino'].groupby(pesquisa['tempo de exp. antes de data_science']).count()"
      ],
      "metadata": {
        "colab": {
          "base_uri": "https://localhost:8080/"
        },
        "id": "8cIhuN81rQvg",
        "outputId": "68609018-30d5-430d-d203-b76ad51a3490"
      },
      "execution_count": null,
      "outputs": [
        {
          "output_type": "execute_result",
          "data": {
            "text/plain": [
              "tempo de exp. antes de data_science\n",
              "Mais de 10 anos                                                                                            165\n",
              "Menos de 1 ano                                                                                             269\n",
              "Não tive experiência na área de TI/Engenharia de Software antes de começar a trabalhar na área de dados    397\n",
              "de 1 a 2 anos                                                                                              181\n",
              "de 2 a 3 anos                                                                                              116\n",
              "de 4 a 5 anos                                                                                              140\n",
              "de 6 a 10 anos                                                                                             168\n",
              "Name: tempo de exp. antes de data_science, dtype: int64"
            ]
          },
          "metadata": {},
          "execution_count": 16
        }
      ]
    },
    {
      "cell_type": "code",
      "source": [
        "pesquisa['tempo de exp. antes de data_science'].loc[pesquisa['genero']=='Masculino'].groupby(pesquisa['tempo de exp. antes de data_science']).count().plot(kind='bar')"
      ],
      "metadata": {
        "colab": {
          "base_uri": "https://localhost:8080/",
          "height": 823
        },
        "id": "O8ez84U1rpzl",
        "outputId": "d6fa2f23-9252-42c9-88ef-b58b390ad52f"
      },
      "execution_count": null,
      "outputs": [
        {
          "output_type": "execute_result",
          "data": {
            "text/plain": [
              "<matplotlib.axes._subplots.AxesSubplot at 0x7f4febe08590>"
            ]
          },
          "metadata": {},
          "execution_count": 17
        },
        {
          "output_type": "display_data",
          "data": {
            "text/plain": [
              "<Figure size 432x288 with 1 Axes>"
            ],
            "image/png": "[encoded data removed]"
          },
          "metadata": {
            "needs_background": "light"
          }
        }
      ]
    },
    {
      "cell_type": "markdown",
      "source": [
        "-"
      ],
      "metadata": {
        "id": "aBChWwSvAQRf"
      }
    },
    {
      "cell_type": "markdown",
      "source": [
        "-"
      ],
      "metadata": {
        "id": "s9fqilFhAQDw"
      }
    },
    {
      "cell_type": "markdown",
      "source": [
        "-"
      ],
      "metadata": {
        "id": "sHcFaR6VAQBn"
      }
    },
    {
      "cell_type": "markdown",
      "source": [
        "-"
      ],
      "metadata": {
        "id": "7MtOGWx-An31"
      }
    },
    {
      "cell_type": "markdown",
      "source": [
        "-"
      ],
      "metadata": {
        "id": "9WMRusYyAnk_"
      }
    },
    {
      "cell_type": "markdown",
      "source": [
        "-"
      ],
      "metadata": {
        "id": "WASmDtrjAP-_"
      }
    },
    {
      "cell_type": "markdown",
      "source": [
        "###19. Pergunta_19 (P19) = mulheres profissionais que atua na área de Data Science?"
      ],
      "metadata": {
        "id": "uSWhbYlcsRsE"
      }
    },
    {
      "cell_type": "code",
      "source": [
        "pesquisa['é profissional de dados'].loc[(pesquisa['genero'] == 'Feminino') & (pesquisa['é profissional de dados'] == 1)].count()"
      ],
      "metadata": {
        "colab": {
          "base_uri": "https://localhost:8080/"
        },
        "id": "s59bicrOskdk",
        "outputId": "050672e4-25bb-4cab-b94e-7768aa1ef1ec"
      },
      "execution_count": null,
      "outputs": [
        {
          "output_type": "execute_result",
          "data": {
            "text/plain": [
              "154"
            ]
          },
          "metadata": {},
          "execution_count": 29
        }
      ]
    },
    {
      "cell_type": "code",
      "source": [
        "pesquisa['é profissional de dados'].loc[pesquisa['genero'] == 'Feminino'].groupby(pesquisa['é profissional de dados']).count().plot(kind='bar')"
      ],
      "metadata": {
        "colab": {
          "base_uri": "https://localhost:8080/",
          "height": 293
        },
        "id": "SHeMr6aztx4q",
        "outputId": "6c65889b-26cc-4b5b-ad61-6dcae4ac4018"
      },
      "execution_count": null,
      "outputs": [
        {
          "output_type": "execute_result",
          "data": {
            "text/plain": [
              "<matplotlib.axes._subplots.AxesSubplot at 0x7f4feb9636d0>"
            ]
          },
          "metadata": {},
          "execution_count": 19
        },
        {
          "output_type": "display_data",
          "data": {
            "text/plain": [
              "<Figure size 432x288 with 1 Axes>"
            ],
            "image/png": "[encoded data removed]"
          },
          "metadata": {
            "needs_background": "light"
          }
        }
      ]
    },
    {
      "cell_type": "markdown",
      "source": [
        "-"
      ],
      "metadata": {
        "id": "P5neS41iEV2F"
      }
    },
    {
      "cell_type": "markdown",
      "source": [
        "-"
      ],
      "metadata": {
        "id": "DbZ14-V3EVLd"
      }
    },
    {
      "cell_type": "markdown",
      "source": [
        "###19. Pergunta_19 (P19) = homens profissionais que atua na área de Data Science?"
      ],
      "metadata": {
        "id": "7as1CHWluI0S"
      }
    },
    {
      "cell_type": "code",
      "source": [
        "pesquisa['é profissional de dados'].loc[(pesquisa['genero'] == 'Masculino') & (pesquisa['é profissional de dados'] == 1)].count()"
      ],
      "metadata": {
        "colab": {
          "base_uri": "https://localhost:8080/"
        },
        "id": "pMJKi1QYuXZH",
        "outputId": "fdad7785-6a93-40c7-ee65-03368c312ee4"
      },
      "execution_count": null,
      "outputs": [
        {
          "output_type": "execute_result",
          "data": {
            "text/plain": [
              "759"
            ]
          },
          "metadata": {},
          "execution_count": 28
        }
      ]
    },
    {
      "cell_type": "code",
      "source": [
        "pesquisa['é profissional de dados'].loc[pesquisa['genero'] == 'Masculino'].groupby(pesquisa['é profissional de dados']).count().plot(kind='bar')"
      ],
      "metadata": {
        "colab": {
          "base_uri": "https://localhost:8080/",
          "height": 293
        },
        "id": "66sT9mhCuc_X",
        "outputId": "de2d6749-500e-4d9a-ea1d-3f7ba45b1d77"
      },
      "execution_count": null,
      "outputs": [
        {
          "output_type": "execute_result",
          "data": {
            "text/plain": [
              "<matplotlib.axes._subplots.AxesSubplot at 0x7f4feb8a2210>"
            ]
          },
          "metadata": {},
          "execution_count": 21
        },
        {
          "output_type": "display_data",
          "data": {
            "text/plain": [
              "<Figure size 432x288 with 1 Axes>"
            ],
            "image/png": "[encoded data removed]"
          },
          "metadata": {
            "needs_background": "light"
          }
        }
      ]
    },
    {
      "cell_type": "markdown",
      "source": [
        "-"
      ],
      "metadata": {
        "id": "ojalVr854Xin"
      }
    },
    {
      "cell_type": "markdown",
      "source": [
        "-"
      ],
      "metadata": {
        "id": "Zp90GexMq7HO"
      }
    },
    {
      "cell_type": "markdown",
      "source": [
        "-"
      ],
      "metadata": {
        "id": "RBYTGvIIq7Ez"
      }
    },
    {
      "cell_type": "markdown",
      "source": [
        "-"
      ],
      "metadata": {
        "id": "0U3OP6C3q7CV"
      }
    },
    {
      "cell_type": "markdown",
      "source": [
        "-"
      ],
      "metadata": {
        "id": "zWceGuryq6_0"
      }
    },
    {
      "cell_type": "markdown",
      "source": [
        "-"
      ],
      "metadata": {
        "id": "Fb7RZp-Nq681"
      }
    },
    {
      "cell_type": "markdown",
      "source": [
        "###21. Pergunta_21 (P21) = Quais das linguagens de programação listadas abaixo é utilizada no trabalho pelo grupo feminino?"
      ],
      "metadata": {
        "id": "hwbOvf2uOGt2"
      }
    },
    {
      "cell_type": "code",
      "source": [
        "pesquisa['identificador'].loc[(pesquisa['genero'] == 'Feminino') & (pesquisa['é profissional de dados'])].groupby(pesquisa['linguagens mais usadas']).count()"
      ],
      "metadata": {
        "colab": {
          "base_uri": "https://localhost:8080/"
        },
        "id": "DRycL1RXLU0d",
        "outputId": "51652271-425f-43f1-f1f4-1f9b6c405205"
      },
      "execution_count": null,
      "outputs": [
        {
          "output_type": "execute_result",
          "data": {
            "text/plain": [
              "linguagens mais usadas\n",
              "C/C++/C#                                        1\n",
              "Java                                            3\n",
              "Não utilizo nenhuma das linguagens listadas     2\n",
              "Python                                         66\n",
              "R                                              21\n",
              "SAS/Stata                                       7\n",
              "SQL                                            48\n",
              "Scala                                           1\n",
              "Visual Basic/VBA                                4\n",
              "Name: identificador, dtype: int64"
            ]
          },
          "metadata": {},
          "execution_count": 43
        }
      ]
    },
    {
      "cell_type": "code",
      "source": [
        "pesquisa['identificador'].loc[(pesquisa['genero'] == 'Feminino') & (pesquisa['é profissional de dados'])].groupby(pesquisa['linguagens mais usadas']).count().plot(kind='bar')"
      ],
      "metadata": {
        "colab": {
          "base_uri": "https://localhost:8080/",
          "height": 511
        },
        "id": "IxNcHvJLXGNg",
        "outputId": "aadbbf8d-cc6d-4067-8a0b-6c57980d1675"
      },
      "execution_count": null,
      "outputs": [
        {
          "output_type": "execute_result",
          "data": {
            "text/plain": [
              "<matplotlib.axes._subplots.AxesSubplot at 0x7f353b5657d0>"
            ]
          },
          "metadata": {},
          "execution_count": 63
        },
        {
          "output_type": "display_data",
          "data": {
            "text/plain": [
              "<Figure size 432x288 with 1 Axes>"
            ],
            "image/png": "[encoded data removed]"
          },
          "metadata": {
            "needs_background": "light"
          }
        }
      ]
    },
    {
      "cell_type": "markdown",
      "source": [
        "###21. Pergunta_21 (P21) = Quais das linguagens de programação listadas abaixo é utilizada no trabalho pelo grupo Masculino?"
      ],
      "metadata": {
        "id": "NJqdhqGYW_Uy"
      }
    },
    {
      "cell_type": "code",
      "source": [
        "pesquisa['identificador'].loc[(pesquisa['genero'] == 'Masculino') & (pesquisa['é profissional de dados'])].groupby(pesquisa['linguagens mais usadas']).count()"
      ],
      "metadata": {
        "colab": {
          "base_uri": "https://localhost:8080/"
        },
        "id": "RlTnW2kXLUwU",
        "outputId": "e29c1294-29fb-4b99-f54c-cf4f14bfff6f"
      },
      "execution_count": null,
      "outputs": [
        {
          "output_type": "execute_result",
          "data": {
            "text/plain": [
              "linguagens mais usadas\n",
              "C/C++/C#                                         8\n",
              "Java                                            14\n",
              "Não utilizo nenhuma das linguagens listadas      8\n",
              "Python                                         392\n",
              "R                                               69\n",
              "SAS/Stata                                       12\n",
              "SQL                                            231\n",
              "Scala                                            9\n",
              "Visual Basic/VBA                                 8\n",
              "Name: identificador, dtype: int64"
            ]
          },
          "metadata": {},
          "execution_count": 64
        }
      ]
    },
    {
      "cell_type": "code",
      "source": [
        "pesquisa['identificador'].loc[(pesquisa['genero'] == 'Masculino') & (pesquisa['é profissional de dados'])].groupby(pesquisa['linguagens mais usadas']).count().plot(kind='bar')"
      ],
      "metadata": {
        "colab": {
          "base_uri": "https://localhost:8080/",
          "height": 511
        },
        "id": "-HMd5S8tLUpE",
        "outputId": "a607eb00-1817-4ed7-b65e-f49c7955d0e8"
      },
      "execution_count": null,
      "outputs": [
        {
          "output_type": "execute_result",
          "data": {
            "text/plain": [
              "<matplotlib.axes._subplots.AxesSubplot at 0x7f353aa1fbd0>"
            ]
          },
          "metadata": {},
          "execution_count": 111
        },
        {
          "output_type": "display_data",
          "data": {
            "text/plain": [
              "<Figure size 432x288 with 1 Axes>"
            ],
            "image/png": "[encoded data removed]"
          },
          "metadata": {
            "needs_background": "light"
          }
        }
      ]
    },
    {
      "cell_type": "markdown",
      "source": [
        "###22. Pergunta_22 (P22) = Quais linguagens mais utilizadas pelo grupo feminino? "
      ],
      "metadata": {
        "id": "MpvGiRgTbKQX"
      }
    },
    {
      "cell_type": "code",
      "source": [
        "pesquisa['identificador'].loc[(pesquisa['genero'] == 'Feminino') & (pesquisa['linguagens mais usadas'] == 'Python')].groupby(pesquisa['linguagens mais usadas']).count()"
      ],
      "metadata": {
        "colab": {
          "base_uri": "https://localhost:8080/"
        },
        "id": "FzKKlyrKLUdm",
        "outputId": "e998be34-92f6-478f-aa63-ddafd02f6201"
      },
      "execution_count": null,
      "outputs": [
        {
          "output_type": "execute_result",
          "data": {
            "text/plain": [
              "linguagens mais usadas\n",
              "Python    66\n",
              "Name: identificador, dtype: int64"
            ]
          },
          "metadata": {},
          "execution_count": 85
        }
      ]
    },
    {
      "cell_type": "markdown",
      "source": [
        "###22. Pergunta_22 (P22) = Quais linguagens mais utilizadas pelo grupo masculino? "
      ],
      "metadata": {
        "id": "KXj37Vt5ccJq"
      }
    },
    {
      "cell_type": "code",
      "source": [
        "pesquisa['identificador'].loc[(pesquisa['genero'] == 'Masculino') & (pesquisa['linguagens mais usadas'] == 'Python')].groupby(pesquisa['linguagens mais usadas']).count()"
      ],
      "metadata": {
        "colab": {
          "base_uri": "https://localhost:8080/"
        },
        "id": "V9QxMhg8cetq",
        "outputId": "9b39307c-c933-4360-acbd-6233c6b5dd86"
      },
      "execution_count": null,
      "outputs": [
        {
          "output_type": "execute_result",
          "data": {
            "text/plain": [
              "linguagens mais usadas\n",
              "Python    392\n",
              "Name: identificador, dtype: int64"
            ]
          },
          "metadata": {},
          "execution_count": 100
        }
      ]
    },
    {
      "cell_type": "code",
      "source": [
        "pesquisa['identificador'].loc[(pesquisa['linguagens mais usadas'] == 'Python')].groupby(pesquisa['genero']).count().plot(kind='bar')"
      ],
      "metadata": {
        "colab": {
          "base_uri": "https://localhost:8080/",
          "height": 336
        },
        "id": "rzG68JFueFSN",
        "outputId": "5a603028-ac69-4a28-bdf9-2e490a4f10ec"
      },
      "execution_count": null,
      "outputs": [
        {
          "output_type": "execute_result",
          "data": {
            "text/plain": [
              "<matplotlib.axes._subplots.AxesSubplot at 0x7f353abc2810>"
            ]
          },
          "metadata": {},
          "execution_count": 105
        },
        {
          "output_type": "display_data",
          "data": {
            "text/plain": [
              "<Figure size 432x288 with 1 Axes>"
            ],
            "image/png": "[encoded data removed]"
          },
          "metadata": {
            "needs_background": "light"
          }
        }
      ]
    },
    {
      "cell_type": "markdown",
      "source": [
        "-"
      ],
      "metadata": {
        "id": "4GDb-yo1_F8A"
      }
    },
    {
      "cell_type": "markdown",
      "source": [
        "-"
      ],
      "metadata": {
        "id": "s0BOxjzF_bNP"
      }
    },
    {
      "cell_type": "markdown",
      "source": [
        "-"
      ],
      "metadata": {
        "id": "03t3iV-k_F5y"
      }
    },
    {
      "cell_type": "markdown",
      "source": [
        "-"
      ],
      "metadata": {
        "id": "6yl5V6BY_F3a"
      }
    },
    {
      "cell_type": "markdown",
      "source": [
        "-"
      ],
      "metadata": {
        "id": "zWpgWVTs_Fz5"
      }
    },
    {
      "cell_type": "markdown",
      "source": [
        "###23. 25. Pergunta_25 (P25) = Quais das opções de Cloud listadas abaixo é mais utilizado no trabalho?"
      ],
      "metadata": {
        "id": "zTTr1-bhgttx"
      }
    },
    {
      "cell_type": "code",
      "source": [
        "pesquisa['identificador'].groupby([pesquisa['azure'],pesquisa['ibm'],pesquisa['amazon']]).count()"
      ],
      "metadata": {
        "colab": {
          "base_uri": "https://localhost:8080/"
        },
        "id": "cBpp-Npg0mvZ",
        "outputId": "38b99393-109d-4a58-b423-8962c9b8c6f7"
      },
      "execution_count": null,
      "outputs": [
        {
          "output_type": "execute_result",
          "data": {
            "text/plain": [
              "azure  ibm  amazon\n",
              "0      0    0         1207\n",
              "            1          335\n",
              "       1    0           21\n",
              "            1           11\n",
              "1      0    0          121\n",
              "            1           58\n",
              "       1    0            4\n",
              "            1            8\n",
              "Name: identificador, dtype: int64"
            ]
          },
          "metadata": {},
          "execution_count": 378
        }
      ]
    },
    {
      "cell_type": "code",
      "source": [
        "pesquisa['identificador'].groupby([pesquisa['azure'],pesquisa['ibm'],pesquisa['amazon']]).count().plot(kind = 'bar')\n"
      ],
      "metadata": {
        "colab": {
          "base_uri": "https://localhost:8080/",
          "height": 326
        },
        "id": "om4dF5CuxE-f",
        "outputId": "5791d6fc-106c-40e0-8e23-de0c4c586191"
      },
      "execution_count": null,
      "outputs": [
        {
          "output_type": "execute_result",
          "data": {
            "text/plain": [
              "<matplotlib.axes._subplots.AxesSubplot at 0x7f3534525e10>"
            ]
          },
          "metadata": {},
          "execution_count": 375
        },
        {
          "output_type": "display_data",
          "data": {
            "text/plain": [
              "<Figure size 432x288 with 1 Axes>"
            ],
            "image/png": "[encoded data removed]"
          },
          "metadata": {
            "needs_background": "light"
          }
        }
      ]
    },
    {
      "cell_type": "markdown",
      "source": [
        "-"
      ],
      "metadata": {
        "id": "1r4qH4SD-3FK"
      }
    },
    {
      "cell_type": "markdown",
      "source": [
        "-"
      ],
      "metadata": {
        "id": "li7MPWDQ_YYz"
      }
    },
    {
      "cell_type": "markdown",
      "source": [
        "-"
      ],
      "metadata": {
        "id": "zB08Um9w_YNB"
      }
    },
    {
      "cell_type": "markdown",
      "source": [
        "-"
      ],
      "metadata": {
        "id": "DCBJtb52-3C_"
      }
    },
    {
      "cell_type": "markdown",
      "source": [
        "-"
      ],
      "metadata": {
        "id": "-PuAex_j-3AX"
      }
    },
    {
      "cell_type": "markdown",
      "source": [
        "-"
      ],
      "metadata": {
        "id": "xZagvAzx-26r"
      }
    },
    {
      "cell_type": "markdown",
      "source": [
        "###26. Pergunta_26 (P26) = Quais dos bancos de dados/fontes de dados listados é utilizado para consultar informações, e posteriormente analisar, no trabalho?"
      ],
      "metadata": {
        "id": "Jfu-pPL67fFJ"
      }
    },
    {
      "cell_type": "code",
      "source": [
        "pesquisa.iloc[:,71:93].groupby(pesquisa['genero']).count()"
      ],
      "metadata": {
        "colab": {
          "base_uri": "https://localhost:8080/",
          "height": 254
        },
        "id": "u3vFK8O0YHNA",
        "outputId": "837861f2-8099-451e-b787-918348d168c8"
      },
      "execution_count": null,
      "outputs": [
        {
          "output_type": "execute_result",
          "data": {
            "text/plain": [
              "           oracle  sql server  aurora  dynamodb  coachdb  cassandra  mongodb  \\\n",
              "genero                                                                         \n",
              "Feminino      326         326     326       326      326        326      326   \n",
              "Masculino    1436        1436    1436      1436     1436       1436     1436   \n",
              "\n",
              "           mariadb  datomic    s3  ...   db2  ms_acess  sqlite  sybase  \\\n",
              "genero                             ...                                   \n",
              "Feminino       326      326   326  ...   326       326     326     326   \n",
              "Masculino     1436     1436  1436  ...  1436      1436    1436    1436   \n",
              "\n",
              "           firebase  vertica  redis  neo4j  google bigtable  hbase  \n",
              "genero                                                              \n",
              "Feminino        326      326    326    326              326    326  \n",
              "Masculino      1436     1436   1436   1436             1436   1436  \n",
              "\n",
              "[2 rows x 22 columns]"
            ],
            "text/html": [
              "\n",
              "  <div id=\"df-4d5accb3-3e11-448e-bb68-00119cc60930\">\n",
              "    <div class=\"colab-df-container\">\n",
              "      <div>\n",
              "<style scoped>\n",
              "    .dataframe tbody tr th:only-of-type {\n",
              "        vertical-align: middle;\n",
              "    }\n",
              "\n",
              "    .dataframe tbody tr th {\n",
              "        vertical-align: top;\n",
              "    }\n",
              "\n",
              "    .dataframe thead th {\n",
              "        text-align: right;\n",
              "    }\n",
              "</style>\n",
              "<table border=\"1\" class=\"dataframe\">\n",
              "  <thead>\n",
              "    <tr style=\"text-align: right;\">\n",
              "      <th></th>\n",
              "      <th>oracle</th>\n",
              "      <th>sql server</th>\n",
              "      <th>aurora</th>\n",
              "      <th>dynamodb</th>\n",
              "      <th>coachdb</th>\n",
              "      <th>cassandra</th>\n",
              "      <th>mongodb</th>\n",
              "      <th>mariadb</th>\n",
              "      <th>datomic</th>\n",
              "      <th>s3</th>\n",
              "      <th>...</th>\n",
              "      <th>db2</th>\n",
              "      <th>ms_acess</th>\n",
              "      <th>sqlite</th>\n",
              "      <th>sybase</th>\n",
              "      <th>firebase</th>\n",
              "      <th>vertica</th>\n",
              "      <th>redis</th>\n",
              "      <th>neo4j</th>\n",
              "      <th>google bigtable</th>\n",
              "      <th>hbase</th>\n",
              "    </tr>\n",
              "    <tr>\n",
              "      <th>genero</th>\n",
              "      <th></th>\n",
              "      <th></th>\n",
              "      <th></th>\n",
              "      <th></th>\n",
              "      <th></th>\n",
              "      <th></th>\n",
              "      <th></th>\n",
              "      <th></th>\n",
              "      <th></th>\n",
              "      <th></th>\n",
              "      <th></th>\n",
              "      <th></th>\n",
              "      <th></th>\n",
              "      <th></th>\n",
              "      <th></th>\n",
              "      <th></th>\n",
              "      <th></th>\n",
              "      <th></th>\n",
              "      <th></th>\n",
              "      <th></th>\n",
              "      <th></th>\n",
              "    </tr>\n",
              "  </thead>\n",
              "  <tbody>\n",
              "    <tr>\n",
              "      <th>Feminino</th>\n",
              "      <td>326</td>\n",
              "      <td>326</td>\n",
              "      <td>326</td>\n",
              "      <td>326</td>\n",
              "      <td>326</td>\n",
              "      <td>326</td>\n",
              "      <td>326</td>\n",
              "      <td>326</td>\n",
              "      <td>326</td>\n",
              "      <td>326</td>\n",
              "      <td>...</td>\n",
              "      <td>326</td>\n",
              "      <td>326</td>\n",
              "      <td>326</td>\n",
              "      <td>326</td>\n",
              "      <td>326</td>\n",
              "      <td>326</td>\n",
              "      <td>326</td>\n",
              "      <td>326</td>\n",
              "      <td>326</td>\n",
              "      <td>326</td>\n",
              "    </tr>\n",
              "    <tr>\n",
              "      <th>Masculino</th>\n",
              "      <td>1436</td>\n",
              "      <td>1436</td>\n",
              "      <td>1436</td>\n",
              "      <td>1436</td>\n",
              "      <td>1436</td>\n",
              "      <td>1436</td>\n",
              "      <td>1436</td>\n",
              "      <td>1436</td>\n",
              "      <td>1436</td>\n",
              "      <td>1436</td>\n",
              "      <td>...</td>\n",
              "      <td>1436</td>\n",
              "      <td>1436</td>\n",
              "      <td>1436</td>\n",
              "      <td>1436</td>\n",
              "      <td>1436</td>\n",
              "      <td>1436</td>\n",
              "      <td>1436</td>\n",
              "      <td>1436</td>\n",
              "      <td>1436</td>\n",
              "      <td>1436</td>\n",
              "    </tr>\n",
              "  </tbody>\n",
              "</table>\n",
              "<p>2 rows × 22 columns</p>\n",
              "</div>\n",
              "      <button class=\"colab-df-convert\" onclick=\"convertToInteractive('df-4d5accb3-3e11-448e-bb68-00119cc60930')\"\n",
              "              title=\"Convert this dataframe to an interactive table.\"\n",
              "              style=\"display:none;\">\n",
              "        \n",
              "  <svg xmlns=\"http://www.w3.org/2000/svg\" height=\"24px\"viewBox=\"0 0 24 24\"\n",
              "       width=\"24px\">\n",
              "    <path d=\"M0 0h24v24H0V0z\" fill=\"none\"/>\n",
              "    <path d=\"M18.56 5.44l.94 2.06.94-2.06 2.06-.94-2.06-.94-.94-2.06-.94 2.06-2.06.94zm-11 1L8.5 8.5l.94-2.06 2.06-.94-2.06-.94L8.5 2.5l-.94 2.06-2.06.94zm10 10l.94 2.06.94-2.06 2.06-.94-2.06-.94-.94-2.06-.94 2.06-2.06.94z\"/><path d=\"M17.41 7.96l-1.37-1.37c-.4-.4-.92-.59-1.43-.59-.52 0-1.04.2-1.43.59L10.3 9.45l-7.72 7.72c-.78.78-.78 2.05 0 2.83L4 21.41c.39.39.9.59 1.41.59.51 0 1.02-.2 1.41-.59l7.78-7.78 2.81-2.81c.8-.78.8-2.07 0-2.86zM5.41 20L4 18.59l7.72-7.72 1.47 1.35L5.41 20z\"/>\n",
              "  </svg>\n",
              "      </button>\n",
              "      \n",
              "  <style>\n",
              "    .colab-df-container {\n",
              "      display:flex;\n",
              "      flex-wrap:wrap;\n",
              "      gap: 12px;\n",
              "    }\n",
              "\n",
              "    .colab-df-convert {\n",
              "      background-color: #E8F0FE;\n",
              "      border: none;\n",
              "      border-radius: 50%;\n",
              "      cursor: pointer;\n",
              "      display: none;\n",
              "      fill: #1967D2;\n",
              "      height: 32px;\n",
              "      padding: 0 0 0 0;\n",
              "      width: 32px;\n",
              "    }\n",
              "\n",
              "    .colab-df-convert:hover {\n",
              "      background-color: #E2EBFA;\n",
              "      box-shadow: 0px 1px 2px rgba(60, 64, 67, 0.3), 0px 1px 3px 1px rgba(60, 64, 67, 0.15);\n",
              "      fill: #174EA6;\n",
              "    }\n",
              "\n",
              "    [theme=dark] .colab-df-convert {\n",
              "      background-color: #3B4455;\n",
              "      fill: #D2E3FC;\n",
              "    }\n",
              "\n",
              "    [theme=dark] .colab-df-convert:hover {\n",
              "      background-color: #434B5C;\n",
              "      box-shadow: 0px 1px 3px 1px rgba(0, 0, 0, 0.15);\n",
              "      filter: drop-shadow(0px 1px 2px rgba(0, 0, 0, 0.3));\n",
              "      fill: #FFFFFF;\n",
              "    }\n",
              "  </style>\n",
              "\n",
              "      <script>\n",
              "        const buttonEl =\n",
              "          document.querySelector('#df-4d5accb3-3e11-448e-bb68-00119cc60930 button.colab-df-convert');\n",
              "        buttonEl.style.display =\n",
              "          google.colab.kernel.accessAllowed ? 'block' : 'none';\n",
              "\n",
              "        async function convertToInteractive(key) {\n",
              "          const element = document.querySelector('#df-4d5accb3-3e11-448e-bb68-00119cc60930');\n",
              "          const dataTable =\n",
              "            await google.colab.kernel.invokeFunction('convertToInteractive',\n",
              "                                                     [key], {});\n",
              "          if (!dataTable) return;\n",
              "\n",
              "          const docLinkHtml = 'Like what you see? Visit the ' +\n",
              "            '<a target=\"_blank\" href=https://colab.research.google.com/notebooks/data_table.ipynb>data table notebook</a>'\n",
              "            + ' to learn more about interactive tables.';\n",
              "          element.innerHTML = '';\n",
              "          dataTable['output_type'] = 'display_data';\n",
              "          await google.colab.output.renderOutput(dataTable, element);\n",
              "          const docLink = document.createElement('div');\n",
              "          docLink.innerHTML = docLinkHtml;\n",
              "          element.appendChild(docLink);\n",
              "        }\n",
              "      </script>\n",
              "    </div>\n",
              "  </div>\n",
              "  "
            ]
          },
          "metadata": {},
          "execution_count": 373
        }
      ]
    },
    {
      "cell_type": "code",
      "source": [
        "pesquisa.iloc[:,71:93].groupby(pesquisa['genero']).mean().plot(kind='bar')"
      ],
      "metadata": {
        "colab": {
          "base_uri": "https://localhost:8080/",
          "height": 458
        },
        "id": "9Mn6KqCybg14",
        "outputId": "a56f7013-7a5d-4e78-e06c-7d94ddec9e9e"
      },
      "execution_count": null,
      "outputs": [
        {
          "output_type": "execute_result",
          "data": {
            "text/plain": [
              "<matplotlib.axes._subplots.AxesSubplot at 0x7f3534971550>"
            ]
          },
          "metadata": {},
          "execution_count": 367
        },
        {
          "output_type": "display_data",
          "data": {
            "text/plain": [
              "<Figure size 432x288 with 1 Axes>"
            ],
            "image/png": "[encoded data removed]"
          },
          "metadata": {
            "needs_background": "light"
          }
        }
      ]
    },
    {
      "cell_type": "code",
      "source": [
        "pesquisa['identificador'].groupby([pesquisa['mysql'],pesquisa['oracle'],pesquisa['sql server'],pesquisa['aurora'],pesquisa['dynamodb'],pesquisa['coachdb'],pesquisa['mongodb'],pesquisa['mariadb'],pesquisa['datomic'],pesquisa['s3'],pesquisa['postgresql'],pesquisa['elaticsearch'],pesquisa['db2'],pesquisa['ms_acess'],pesquisa['sqlite'],pesquisa['sybase'],pesquisa['firebase'],pesquisa['vertica'],pesquisa['redis'],pesquisa['neo4j'],pesquisa['google bigtable'],pesquisa['hbase']]).count().plot(kind ='hist', x='tip')"
      ],
      "metadata": {
        "colab": {
          "base_uri": "https://localhost:8080/",
          "height": 282
        },
        "id": "ysTz5AtnLfn8",
        "outputId": "d0418778-0f22-49b8-c816-dd9704e4a685"
      },
      "execution_count": null,
      "outputs": [
        {
          "output_type": "execute_result",
          "data": {
            "text/plain": [
              "<matplotlib.axes._subplots.AxesSubplot at 0x7f3534bd3410>"
            ]
          },
          "metadata": {},
          "execution_count": 341
        },
        {
          "output_type": "display_data",
          "data": {
            "text/plain": [
              "<Figure size 432x288 with 1 Axes>"
            ],
            "image/png": "[encoded data removed]"
          },
          "metadata": {
            "needs_background": "light"
          }
        }
      ]
    },
    {
      "cell_type": "markdown",
      "source": [
        "###27. Pergunta_27 (P27) = Quais as Ferramentas de Business Intelligence você utiliza no trabalho pelas mulheres?"
      ],
      "metadata": {
        "id": "aEtUWV57RKmY"
      }
    },
    {
      "cell_type": "code",
      "source": [
        "pesquisa.iloc[:,94:109].groupby(pesquisa['genero']).count()"
      ],
      "metadata": {
        "colab": {
          "base_uri": "https://localhost:8080/",
          "height": 225
        },
        "id": "_UY3Eat_TKRT",
        "outputId": "9dad6d62-2d71-4463-d0e7-ebfd4811e92d"
      },
      "execution_count": null,
      "outputs": [
        {
          "output_type": "execute_result",
          "data": {
            "text/plain": [
              "           ('P27', 'microsoft_powerbi')  ('P27', 'qlik_view_qlik_sense')  \\\n",
              "genero                                                                     \n",
              "Feminino                            326                              326   \n",
              "Masculino                          1436                             1436   \n",
              "\n",
              "           ('P27', 'tableau')  ('P27', 'metabase')  ('P27', 'superset')  \\\n",
              "genero                                                                    \n",
              "Feminino                  326                  326                  326   \n",
              "Masculino                1436                 1436                 1436   \n",
              "\n",
              "           ('P27', 'redash')  ('P27', 'microstrategy')  \\\n",
              "genero                                                   \n",
              "Feminino                 326                       326   \n",
              "Masculino               1436                      1436   \n",
              "\n",
              "           ('P27', 'ibm_analytics_cognos')  ('P27', 'sap_business_objects')  \\\n",
              "genero                                                                        \n",
              "Feminino                               326                              326   \n",
              "Masculino                             1436                             1436   \n",
              "\n",
              "           ('P27', 'oracle_business_intelligence')  ('P27', 'birst')  \\\n",
              "genero                                                                 \n",
              "Feminino                                       326               326   \n",
              "Masculino                                     1436              1436   \n",
              "\n",
              "           ('P27', 'looker')  ('P27', 'google_data_studio')  \\\n",
              "genero                                                        \n",
              "Feminino                 326                            326   \n",
              "Masculino               1436                           1436   \n",
              "\n",
              "           ('P27', 'only_excel_gsheets')  ('P27', 'no_bi_tool_at_work')  \n",
              "genero                                                                   \n",
              "Feminino                             326                            326  \n",
              "Masculino                           1436                           1436  "
            ],
            "text/html": [
              "\n",
              "  <div id=\"df-29a71436-33c3-4108-b368-a4cea60a510a\">\n",
              "    <div class=\"colab-df-container\">\n",
              "      <div>\n",
              "<style scoped>\n",
              "    .dataframe tbody tr th:only-of-type {\n",
              "        vertical-align: middle;\n",
              "    }\n",
              "\n",
              "    .dataframe tbody tr th {\n",
              "        vertical-align: top;\n",
              "    }\n",
              "\n",
              "    .dataframe thead th {\n",
              "        text-align: right;\n",
              "    }\n",
              "</style>\n",
              "<table border=\"1\" class=\"dataframe\">\n",
              "  <thead>\n",
              "    <tr style=\"text-align: right;\">\n",
              "      <th></th>\n",
              "      <th>('P27', 'microsoft_powerbi')</th>\n",
              "      <th>('P27', 'qlik_view_qlik_sense')</th>\n",
              "      <th>('P27', 'tableau')</th>\n",
              "      <th>('P27', 'metabase')</th>\n",
              "      <th>('P27', 'superset')</th>\n",
              "      <th>('P27', 'redash')</th>\n",
              "      <th>('P27', 'microstrategy')</th>\n",
              "      <th>('P27', 'ibm_analytics_cognos')</th>\n",
              "      <th>('P27', 'sap_business_objects')</th>\n",
              "      <th>('P27', 'oracle_business_intelligence')</th>\n",
              "      <th>('P27', 'birst')</th>\n",
              "      <th>('P27', 'looker')</th>\n",
              "      <th>('P27', 'google_data_studio')</th>\n",
              "      <th>('P27', 'only_excel_gsheets')</th>\n",
              "      <th>('P27', 'no_bi_tool_at_work')</th>\n",
              "    </tr>\n",
              "    <tr>\n",
              "      <th>genero</th>\n",
              "      <th></th>\n",
              "      <th></th>\n",
              "      <th></th>\n",
              "      <th></th>\n",
              "      <th></th>\n",
              "      <th></th>\n",
              "      <th></th>\n",
              "      <th></th>\n",
              "      <th></th>\n",
              "      <th></th>\n",
              "      <th></th>\n",
              "      <th></th>\n",
              "      <th></th>\n",
              "      <th></th>\n",
              "      <th></th>\n",
              "    </tr>\n",
              "  </thead>\n",
              "  <tbody>\n",
              "    <tr>\n",
              "      <th>Feminino</th>\n",
              "      <td>326</td>\n",
              "      <td>326</td>\n",
              "      <td>326</td>\n",
              "      <td>326</td>\n",
              "      <td>326</td>\n",
              "      <td>326</td>\n",
              "      <td>326</td>\n",
              "      <td>326</td>\n",
              "      <td>326</td>\n",
              "      <td>326</td>\n",
              "      <td>326</td>\n",
              "      <td>326</td>\n",
              "      <td>326</td>\n",
              "      <td>326</td>\n",
              "      <td>326</td>\n",
              "    </tr>\n",
              "    <tr>\n",
              "      <th>Masculino</th>\n",
              "      <td>1436</td>\n",
              "      <td>1436</td>\n",
              "      <td>1436</td>\n",
              "      <td>1436</td>\n",
              "      <td>1436</td>\n",
              "      <td>1436</td>\n",
              "      <td>1436</td>\n",
              "      <td>1436</td>\n",
              "      <td>1436</td>\n",
              "      <td>1436</td>\n",
              "      <td>1436</td>\n",
              "      <td>1436</td>\n",
              "      <td>1436</td>\n",
              "      <td>1436</td>\n",
              "      <td>1436</td>\n",
              "    </tr>\n",
              "  </tbody>\n",
              "</table>\n",
              "</div>\n",
              "      <button class=\"colab-df-convert\" onclick=\"convertToInteractive('df-29a71436-33c3-4108-b368-a4cea60a510a')\"\n",
              "              title=\"Convert this dataframe to an interactive table.\"\n",
              "              style=\"display:none;\">\n",
              "        \n",
              "  <svg xmlns=\"http://www.w3.org/2000/svg\" height=\"24px\"viewBox=\"0 0 24 24\"\n",
              "       width=\"24px\">\n",
              "    <path d=\"M0 0h24v24H0V0z\" fill=\"none\"/>\n",
              "    <path d=\"M18.56 5.44l.94 2.06.94-2.06 2.06-.94-2.06-.94-.94-2.06-.94 2.06-2.06.94zm-11 1L8.5 8.5l.94-2.06 2.06-.94-2.06-.94L8.5 2.5l-.94 2.06-2.06.94zm10 10l.94 2.06.94-2.06 2.06-.94-2.06-.94-.94-2.06-.94 2.06-2.06.94z\"/><path d=\"M17.41 7.96l-1.37-1.37c-.4-.4-.92-.59-1.43-.59-.52 0-1.04.2-1.43.59L10.3 9.45l-7.72 7.72c-.78.78-.78 2.05 0 2.83L4 21.41c.39.39.9.59 1.41.59.51 0 1.02-.2 1.41-.59l7.78-7.78 2.81-2.81c.8-.78.8-2.07 0-2.86zM5.41 20L4 18.59l7.72-7.72 1.47 1.35L5.41 20z\"/>\n",
              "  </svg>\n",
              "      </button>\n",
              "      \n",
              "  <style>\n",
              "    .colab-df-container {\n",
              "      display:flex;\n",
              "      flex-wrap:wrap;\n",
              "      gap: 12px;\n",
              "    }\n",
              "\n",
              "    .colab-df-convert {\n",
              "      background-color: #E8F0FE;\n",
              "      border: none;\n",
              "      border-radius: 50%;\n",
              "      cursor: pointer;\n",
              "      display: none;\n",
              "      fill: #1967D2;\n",
              "      height: 32px;\n",
              "      padding: 0 0 0 0;\n",
              "      width: 32px;\n",
              "    }\n",
              "\n",
              "    .colab-df-convert:hover {\n",
              "      background-color: #E2EBFA;\n",
              "      box-shadow: 0px 1px 2px rgba(60, 64, 67, 0.3), 0px 1px 3px 1px rgba(60, 64, 67, 0.15);\n",
              "      fill: #174EA6;\n",
              "    }\n",
              "\n",
              "    [theme=dark] .colab-df-convert {\n",
              "      background-color: #3B4455;\n",
              "      fill: #D2E3FC;\n",
              "    }\n",
              "\n",
              "    [theme=dark] .colab-df-convert:hover {\n",
              "      background-color: #434B5C;\n",
              "      box-shadow: 0px 1px 3px 1px rgba(0, 0, 0, 0.15);\n",
              "      filter: drop-shadow(0px 1px 2px rgba(0, 0, 0, 0.3));\n",
              "      fill: #FFFFFF;\n",
              "    }\n",
              "  </style>\n",
              "\n",
              "      <script>\n",
              "        const buttonEl =\n",
              "          document.querySelector('#df-29a71436-33c3-4108-b368-a4cea60a510a button.colab-df-convert');\n",
              "        buttonEl.style.display =\n",
              "          google.colab.kernel.accessAllowed ? 'block' : 'none';\n",
              "\n",
              "        async function convertToInteractive(key) {\n",
              "          const element = document.querySelector('#df-29a71436-33c3-4108-b368-a4cea60a510a');\n",
              "          const dataTable =\n",
              "            await google.colab.kernel.invokeFunction('convertToInteractive',\n",
              "                                                     [key], {});\n",
              "          if (!dataTable) return;\n",
              "\n",
              "          const docLinkHtml = 'Like what you see? Visit the ' +\n",
              "            '<a target=\"_blank\" href=https://colab.research.google.com/notebooks/data_table.ipynb>data table notebook</a>'\n",
              "            + ' to learn more about interactive tables.';\n",
              "          element.innerHTML = '';\n",
              "          dataTable['output_type'] = 'display_data';\n",
              "          await google.colab.output.renderOutput(dataTable, element);\n",
              "          const docLink = document.createElement('div');\n",
              "          docLink.innerHTML = docLinkHtml;\n",
              "          element.appendChild(docLink);\n",
              "        }\n",
              "      </script>\n",
              "    </div>\n",
              "  </div>\n",
              "  "
            ]
          },
          "metadata": {},
          "execution_count": 383
        }
      ]
    },
    {
      "cell_type": "code",
      "source": [
        "pesquisa.iloc[:,94:109].groupby(pesquisa['genero']).mean().plot(kind='bar')"
      ],
      "metadata": {
        "colab": {
          "base_uri": "https://localhost:8080/",
          "height": 359
        },
        "id": "K-KmwHTxdso7",
        "outputId": "eefa57c1-785e-4661-d97b-62e54fe0d977"
      },
      "execution_count": null,
      "outputs": [
        {
          "output_type": "execute_result",
          "data": {
            "text/plain": [
              "<matplotlib.axes._subplots.AxesSubplot at 0x7f351f2972d0>"
            ]
          },
          "metadata": {},
          "execution_count": 397
        },
        {
          "output_type": "display_data",
          "data": {
            "text/plain": [
              "<Figure size 432x288 with 1 Axes>"
            ],
            "image/png": "[encoded data removed]"
          },
          "metadata": {
            "needs_background": "light"
          }
        }
      ]
    },
    {
      "cell_type": "markdown",
      "source": [
        "###28. Pergunta_28 (P28) = Quais as tecnologias são utilizadas como ferramenta de ETL no trabalho?"
      ],
      "metadata": {
        "id": "bWu1PcwVhNnN"
      }
    },
    {
      "cell_type": "code",
      "source": [
        "pesquisa.iloc[:,111:121].groupby(pesquisa['genero']).head(0)"
      ],
      "metadata": {
        "colab": {
          "base_uri": "https://localhost:8080/",
          "height": 131
        },
        "id": "yOOMwHTihKrR",
        "outputId": "6fcf9626-0448-4a6c-caa2-3dcd1353f706"
      },
      "execution_count": null,
      "outputs": [
        {
          "output_type": "execute_result",
          "data": {
            "text/plain": [
              "Empty DataFrame\n",
              "Columns: [('P28', 'apache_airflow'), ('P28', 'luigi'), ('P28', 'aws_glue'), ('P28', 'talend'), ('P28', 'pentaho'), ('P28', 'alteryx'), ('P28', 'oracle_data_integrator'), ('P28', 'ibm_data_stage'), ('P28', 'sap_bw_etl'), ('P28', 'siss_sql_server_integration_services')]\n",
              "Index: []"
            ],
            "text/html": [
              "\n",
              "  <div id=\"df-b2facf73-cbd3-4a2e-990d-b9de0c4b23f4\">\n",
              "    <div class=\"colab-df-container\">\n",
              "      <div>\n",
              "<style scoped>\n",
              "    .dataframe tbody tr th:only-of-type {\n",
              "        vertical-align: middle;\n",
              "    }\n",
              "\n",
              "    .dataframe tbody tr th {\n",
              "        vertical-align: top;\n",
              "    }\n",
              "\n",
              "    .dataframe thead th {\n",
              "        text-align: right;\n",
              "    }\n",
              "</style>\n",
              "<table border=\"1\" class=\"dataframe\">\n",
              "  <thead>\n",
              "    <tr style=\"text-align: right;\">\n",
              "      <th></th>\n",
              "      <th>('P28', 'apache_airflow')</th>\n",
              "      <th>('P28', 'luigi')</th>\n",
              "      <th>('P28', 'aws_glue')</th>\n",
              "      <th>('P28', 'talend')</th>\n",
              "      <th>('P28', 'pentaho')</th>\n",
              "      <th>('P28', 'alteryx')</th>\n",
              "      <th>('P28', 'oracle_data_integrator')</th>\n",
              "      <th>('P28', 'ibm_data_stage')</th>\n",
              "      <th>('P28', 'sap_bw_etl')</th>\n",
              "      <th>('P28', 'siss_sql_server_integration_services')</th>\n",
              "    </tr>\n",
              "  </thead>\n",
              "  <tbody>\n",
              "  </tbody>\n",
              "</table>\n",
              "</div>\n",
              "      <button class=\"colab-df-convert\" onclick=\"convertToInteractive('df-b2facf73-cbd3-4a2e-990d-b9de0c4b23f4')\"\n",
              "              title=\"Convert this dataframe to an interactive table.\"\n",
              "              style=\"display:none;\">\n",
              "        \n",
              "  <svg xmlns=\"http://www.w3.org/2000/svg\" height=\"24px\"viewBox=\"0 0 24 24\"\n",
              "       width=\"24px\">\n",
              "    <path d=\"M0 0h24v24H0V0z\" fill=\"none\"/>\n",
              "    <path d=\"M18.56 5.44l.94 2.06.94-2.06 2.06-.94-2.06-.94-.94-2.06-.94 2.06-2.06.94zm-11 1L8.5 8.5l.94-2.06 2.06-.94-2.06-.94L8.5 2.5l-.94 2.06-2.06.94zm10 10l.94 2.06.94-2.06 2.06-.94-2.06-.94-.94-2.06-.94 2.06-2.06.94z\"/><path d=\"M17.41 7.96l-1.37-1.37c-.4-.4-.92-.59-1.43-.59-.52 0-1.04.2-1.43.59L10.3 9.45l-7.72 7.72c-.78.78-.78 2.05 0 2.83L4 21.41c.39.39.9.59 1.41.59.51 0 1.02-.2 1.41-.59l7.78-7.78 2.81-2.81c.8-.78.8-2.07 0-2.86zM5.41 20L4 18.59l7.72-7.72 1.47 1.35L5.41 20z\"/>\n",
              "  </svg>\n",
              "      </button>\n",
              "      \n",
              "  <style>\n",
              "    .colab-df-container {\n",
              "      display:flex;\n",
              "      flex-wrap:wrap;\n",
              "      gap: 12px;\n",
              "    }\n",
              "\n",
              "    .colab-df-convert {\n",
              "      background-color: #E8F0FE;\n",
              "      border: none;\n",
              "      border-radius: 50%;\n",
              "      cursor: pointer;\n",
              "      display: none;\n",
              "      fill: #1967D2;\n",
              "      height: 32px;\n",
              "      padding: 0 0 0 0;\n",
              "      width: 32px;\n",
              "    }\n",
              "\n",
              "    .colab-df-convert:hover {\n",
              "      background-color: #E2EBFA;\n",
              "      box-shadow: 0px 1px 2px rgba(60, 64, 67, 0.3), 0px 1px 3px 1px rgba(60, 64, 67, 0.15);\n",
              "      fill: #174EA6;\n",
              "    }\n",
              "\n",
              "    [theme=dark] .colab-df-convert {\n",
              "      background-color: #3B4455;\n",
              "      fill: #D2E3FC;\n",
              "    }\n",
              "\n",
              "    [theme=dark] .colab-df-convert:hover {\n",
              "      background-color: #434B5C;\n",
              "      box-shadow: 0px 1px 3px 1px rgba(0, 0, 0, 0.15);\n",
              "      filter: drop-shadow(0px 1px 2px rgba(0, 0, 0, 0.3));\n",
              "      fill: #FFFFFF;\n",
              "    }\n",
              "  </style>\n",
              "\n",
              "      <script>\n",
              "        const buttonEl =\n",
              "          document.querySelector('#df-b2facf73-cbd3-4a2e-990d-b9de0c4b23f4 button.colab-df-convert');\n",
              "        buttonEl.style.display =\n",
              "          google.colab.kernel.accessAllowed ? 'block' : 'none';\n",
              "\n",
              "        async function convertToInteractive(key) {\n",
              "          const element = document.querySelector('#df-b2facf73-cbd3-4a2e-990d-b9de0c4b23f4');\n",
              "          const dataTable =\n",
              "            await google.colab.kernel.invokeFunction('convertToInteractive',\n",
              "                                                     [key], {});\n",
              "          if (!dataTable) return;\n",
              "\n",
              "          const docLinkHtml = 'Like what you see? Visit the ' +\n",
              "            '<a target=\"_blank\" href=https://colab.research.google.com/notebooks/data_table.ipynb>data table notebook</a>'\n",
              "            + ' to learn more about interactive tables.';\n",
              "          element.innerHTML = '';\n",
              "          dataTable['output_type'] = 'display_data';\n",
              "          await google.colab.output.renderOutput(dataTable, element);\n",
              "          const docLink = document.createElement('div');\n",
              "          docLink.innerHTML = docLinkHtml;\n",
              "          element.appendChild(docLink);\n",
              "        }\n",
              "      </script>\n",
              "    </div>\n",
              "  </div>\n",
              "  "
            ]
          },
          "metadata": {},
          "execution_count": 67
        }
      ]
    },
    {
      "cell_type": "markdown",
      "source": [
        "###29. Pergunta_29 (P29) = organizações que possui um Data Warehouse?"
      ],
      "metadata": {
        "id": "2MK2c-RNoOld"
      }
    },
    {
      "cell_type": "code",
      "source": [
        "pesquisa.iloc[:,123:130].groupby(pesquisa['genero']).head(0)"
      ],
      "metadata": {
        "colab": {
          "base_uri": "https://localhost:8080/",
          "height": 93
        },
        "id": "_CAGQaRIohfd",
        "outputId": "8a90aa04-49e2-41f6-ca32-9ee16e3511d9"
      },
      "execution_count": null,
      "outputs": [
        {
          "output_type": "execute_result",
          "data": {
            "text/plain": [
              "Empty DataFrame\n",
              "Columns: [('P30', 'google_bigquery'), ('P30', 'aws_redshift'), ('P30', 'snowflake'), ('P30', 'oracle'), ('P30', 'postgres_mysql'), ('P30', 'ibm'), teradata]\n",
              "Index: []"
            ],
            "text/html": [
              "\n",
              "  <div id=\"df-e5873339-21a2-4356-9b6f-449e42216aad\">\n",
              "    <div class=\"colab-df-container\">\n",
              "      <div>\n",
              "<style scoped>\n",
              "    .dataframe tbody tr th:only-of-type {\n",
              "        vertical-align: middle;\n",
              "    }\n",
              "\n",
              "    .dataframe tbody tr th {\n",
              "        vertical-align: top;\n",
              "    }\n",
              "\n",
              "    .dataframe thead th {\n",
              "        text-align: right;\n",
              "    }\n",
              "</style>\n",
              "<table border=\"1\" class=\"dataframe\">\n",
              "  <thead>\n",
              "    <tr style=\"text-align: right;\">\n",
              "      <th></th>\n",
              "      <th>('P30', 'google_bigquery')</th>\n",
              "      <th>('P30', 'aws_redshift')</th>\n",
              "      <th>('P30', 'snowflake')</th>\n",
              "      <th>('P30', 'oracle')</th>\n",
              "      <th>('P30', 'postgres_mysql')</th>\n",
              "      <th>('P30', 'ibm')</th>\n",
              "      <th>teradata</th>\n",
              "    </tr>\n",
              "  </thead>\n",
              "  <tbody>\n",
              "  </tbody>\n",
              "</table>\n",
              "</div>\n",
              "      <button class=\"colab-df-convert\" onclick=\"convertToInteractive('df-e5873339-21a2-4356-9b6f-449e42216aad')\"\n",
              "              title=\"Convert this dataframe to an interactive table.\"\n",
              "              style=\"display:none;\">\n",
              "        \n",
              "  <svg xmlns=\"http://www.w3.org/2000/svg\" height=\"24px\"viewBox=\"0 0 24 24\"\n",
              "       width=\"24px\">\n",
              "    <path d=\"M0 0h24v24H0V0z\" fill=\"none\"/>\n",
              "    <path d=\"M18.56 5.44l.94 2.06.94-2.06 2.06-.94-2.06-.94-.94-2.06-.94 2.06-2.06.94zm-11 1L8.5 8.5l.94-2.06 2.06-.94-2.06-.94L8.5 2.5l-.94 2.06-2.06.94zm10 10l.94 2.06.94-2.06 2.06-.94-2.06-.94-.94-2.06-.94 2.06-2.06.94z\"/><path d=\"M17.41 7.96l-1.37-1.37c-.4-.4-.92-.59-1.43-.59-.52 0-1.04.2-1.43.59L10.3 9.45l-7.72 7.72c-.78.78-.78 2.05 0 2.83L4 21.41c.39.39.9.59 1.41.59.51 0 1.02-.2 1.41-.59l7.78-7.78 2.81-2.81c.8-.78.8-2.07 0-2.86zM5.41 20L4 18.59l7.72-7.72 1.47 1.35L5.41 20z\"/>\n",
              "  </svg>\n",
              "      </button>\n",
              "      \n",
              "  <style>\n",
              "    .colab-df-container {\n",
              "      display:flex;\n",
              "      flex-wrap:wrap;\n",
              "      gap: 12px;\n",
              "    }\n",
              "\n",
              "    .colab-df-convert {\n",
              "      background-color: #E8F0FE;\n",
              "      border: none;\n",
              "      border-radius: 50%;\n",
              "      cursor: pointer;\n",
              "      display: none;\n",
              "      fill: #1967D2;\n",
              "      height: 32px;\n",
              "      padding: 0 0 0 0;\n",
              "      width: 32px;\n",
              "    }\n",
              "\n",
              "    .colab-df-convert:hover {\n",
              "      background-color: #E2EBFA;\n",
              "      box-shadow: 0px 1px 2px rgba(60, 64, 67, 0.3), 0px 1px 3px 1px rgba(60, 64, 67, 0.15);\n",
              "      fill: #174EA6;\n",
              "    }\n",
              "\n",
              "    [theme=dark] .colab-df-convert {\n",
              "      background-color: #3B4455;\n",
              "      fill: #D2E3FC;\n",
              "    }\n",
              "\n",
              "    [theme=dark] .colab-df-convert:hover {\n",
              "      background-color: #434B5C;\n",
              "      box-shadow: 0px 1px 3px 1px rgba(0, 0, 0, 0.15);\n",
              "      filter: drop-shadow(0px 1px 2px rgba(0, 0, 0, 0.3));\n",
              "      fill: #FFFFFF;\n",
              "    }\n",
              "  </style>\n",
              "\n",
              "      <script>\n",
              "        const buttonEl =\n",
              "          document.querySelector('#df-e5873339-21a2-4356-9b6f-449e42216aad button.colab-df-convert');\n",
              "        buttonEl.style.display =\n",
              "          google.colab.kernel.accessAllowed ? 'block' : 'none';\n",
              "\n",
              "        async function convertToInteractive(key) {\n",
              "          const element = document.querySelector('#df-e5873339-21a2-4356-9b6f-449e42216aad');\n",
              "          const dataTable =\n",
              "            await google.colab.kernel.invokeFunction('convertToInteractive',\n",
              "                                                     [key], {});\n",
              "          if (!dataTable) return;\n",
              "\n",
              "          const docLinkHtml = 'Like what you see? Visit the ' +\n",
              "            '<a target=\"_blank\" href=https://colab.research.google.com/notebooks/data_table.ipynb>data table notebook</a>'\n",
              "            + ' to learn more about interactive tables.';\n",
              "          element.innerHTML = '';\n",
              "          dataTable['output_type'] = 'display_data';\n",
              "          await google.colab.output.renderOutput(dataTable, element);\n",
              "          const docLink = document.createElement('div');\n",
              "          docLink.innerHTML = docLinkHtml;\n",
              "          element.appendChild(docLink);\n",
              "        }\n",
              "      </script>\n",
              "    </div>\n",
              "  </div>\n",
              "  "
            ]
          },
          "metadata": {},
          "execution_count": 65
        }
      ]
    },
    {
      "cell_type": "markdown",
      "source": [
        "###33. Pergunta_33 (P33) = De quais outras formas que você costuma se atualizar no mundo dos dados?"
      ],
      "metadata": {
        "id": "qgyTYHyqp4FW"
      }
    },
    {
      "cell_type": "code",
      "source": [
        "pesquisa.iloc[:,140:160].head(0)"
      ],
      "metadata": {
        "colab": {
          "base_uri": "https://localhost:8080/",
          "height": 131
        },
        "id": "NmCEO6OUp3zA",
        "outputId": "3aa3a8c8-1536-4b94-aad9-609650e6ef0d"
      },
      "execution_count": null,
      "outputs": [
        {
          "output_type": "execute_result",
          "data": {
            "text/plain": [
              "Empty DataFrame\n",
              "Columns: [('P33', 'telegram_groups'), ('P33', 'whatsapp_groups'), ('P33', 'youtube_channels'), ('P33', 'other_brasilian_blogs'), ('P33', 'other_slack_channels'), ('P33', 'twitter'), ('P33', 'abroad_blogs'), ('P33', 'abroad_podcasts'), ('P33', 'meetups_and_events'), ('P33', 'only_data_hackers'), ('P33', 'other'), ('P34', 'udacity'), ('P34', 'coursera'), ('P34', 'udemy'), ('P34', 'height'), ('P34', 'edx'), ('P34', 'data_camp'), ('P34', 'data_quest'), ('P34', 'kaggle_learn'), cursos online]\n",
              "Index: []"
            ],
            "text/html": [
              "\n",
              "  <div id=\"df-13fdffce-f43a-45c8-ac4d-f978f9bd05be\">\n",
              "    <div class=\"colab-df-container\">\n",
              "      <div>\n",
              "<style scoped>\n",
              "    .dataframe tbody tr th:only-of-type {\n",
              "        vertical-align: middle;\n",
              "    }\n",
              "\n",
              "    .dataframe tbody tr th {\n",
              "        vertical-align: top;\n",
              "    }\n",
              "\n",
              "    .dataframe thead th {\n",
              "        text-align: right;\n",
              "    }\n",
              "</style>\n",
              "<table border=\"1\" class=\"dataframe\">\n",
              "  <thead>\n",
              "    <tr style=\"text-align: right;\">\n",
              "      <th></th>\n",
              "      <th>('P33', 'telegram_groups')</th>\n",
              "      <th>('P33', 'whatsapp_groups')</th>\n",
              "      <th>('P33', 'youtube_channels')</th>\n",
              "      <th>('P33', 'other_brasilian_blogs')</th>\n",
              "      <th>('P33', 'other_slack_channels')</th>\n",
              "      <th>('P33', 'twitter')</th>\n",
              "      <th>('P33', 'abroad_blogs')</th>\n",
              "      <th>('P33', 'abroad_podcasts')</th>\n",
              "      <th>('P33', 'meetups_and_events')</th>\n",
              "      <th>('P33', 'only_data_hackers')</th>\n",
              "      <th>('P33', 'other')</th>\n",
              "      <th>('P34', 'udacity')</th>\n",
              "      <th>('P34', 'coursera')</th>\n",
              "      <th>('P34', 'udemy')</th>\n",
              "      <th>('P34', 'height')</th>\n",
              "      <th>('P34', 'edx')</th>\n",
              "      <th>('P34', 'data_camp')</th>\n",
              "      <th>('P34', 'data_quest')</th>\n",
              "      <th>('P34', 'kaggle_learn')</th>\n",
              "      <th>cursos online</th>\n",
              "    </tr>\n",
              "  </thead>\n",
              "  <tbody>\n",
              "  </tbody>\n",
              "</table>\n",
              "</div>\n",
              "      <button class=\"colab-df-convert\" onclick=\"convertToInteractive('df-13fdffce-f43a-45c8-ac4d-f978f9bd05be')\"\n",
              "              title=\"Convert this dataframe to an interactive table.\"\n",
              "              style=\"display:none;\">\n",
              "        \n",
              "  <svg xmlns=\"http://www.w3.org/2000/svg\" height=\"24px\"viewBox=\"0 0 24 24\"\n",
              "       width=\"24px\">\n",
              "    <path d=\"M0 0h24v24H0V0z\" fill=\"none\"/>\n",
              "    <path d=\"M18.56 5.44l.94 2.06.94-2.06 2.06-.94-2.06-.94-.94-2.06-.94 2.06-2.06.94zm-11 1L8.5 8.5l.94-2.06 2.06-.94-2.06-.94L8.5 2.5l-.94 2.06-2.06.94zm10 10l.94 2.06.94-2.06 2.06-.94-2.06-.94-.94-2.06-.94 2.06-2.06.94z\"/><path d=\"M17.41 7.96l-1.37-1.37c-.4-.4-.92-.59-1.43-.59-.52 0-1.04.2-1.43.59L10.3 9.45l-7.72 7.72c-.78.78-.78 2.05 0 2.83L4 21.41c.39.39.9.59 1.41.59.51 0 1.02-.2 1.41-.59l7.78-7.78 2.81-2.81c.8-.78.8-2.07 0-2.86zM5.41 20L4 18.59l7.72-7.72 1.47 1.35L5.41 20z\"/>\n",
              "  </svg>\n",
              "      </button>\n",
              "      \n",
              "  <style>\n",
              "    .colab-df-container {\n",
              "      display:flex;\n",
              "      flex-wrap:wrap;\n",
              "      gap: 12px;\n",
              "    }\n",
              "\n",
              "    .colab-df-convert {\n",
              "      background-color: #E8F0FE;\n",
              "      border: none;\n",
              "      border-radius: 50%;\n",
              "      cursor: pointer;\n",
              "      display: none;\n",
              "      fill: #1967D2;\n",
              "      height: 32px;\n",
              "      padding: 0 0 0 0;\n",
              "      width: 32px;\n",
              "    }\n",
              "\n",
              "    .colab-df-convert:hover {\n",
              "      background-color: #E2EBFA;\n",
              "      box-shadow: 0px 1px 2px rgba(60, 64, 67, 0.3), 0px 1px 3px 1px rgba(60, 64, 67, 0.15);\n",
              "      fill: #174EA6;\n",
              "    }\n",
              "\n",
              "    [theme=dark] .colab-df-convert {\n",
              "      background-color: #3B4455;\n",
              "      fill: #D2E3FC;\n",
              "    }\n",
              "\n",
              "    [theme=dark] .colab-df-convert:hover {\n",
              "      background-color: #434B5C;\n",
              "      box-shadow: 0px 1px 3px 1px rgba(0, 0, 0, 0.15);\n",
              "      filter: drop-shadow(0px 1px 2px rgba(0, 0, 0, 0.3));\n",
              "      fill: #FFFFFF;\n",
              "    }\n",
              "  </style>\n",
              "\n",
              "      <script>\n",
              "        const buttonEl =\n",
              "          document.querySelector('#df-13fdffce-f43a-45c8-ac4d-f978f9bd05be button.colab-df-convert');\n",
              "        buttonEl.style.display =\n",
              "          google.colab.kernel.accessAllowed ? 'block' : 'none';\n",
              "\n",
              "        async function convertToInteractive(key) {\n",
              "          const element = document.querySelector('#df-13fdffce-f43a-45c8-ac4d-f978f9bd05be');\n",
              "          const dataTable =\n",
              "            await google.colab.kernel.invokeFunction('convertToInteractive',\n",
              "                                                     [key], {});\n",
              "          if (!dataTable) return;\n",
              "\n",
              "          const docLinkHtml = 'Like what you see? Visit the ' +\n",
              "            '<a target=\"_blank\" href=https://colab.research.google.com/notebooks/data_table.ipynb>data table notebook</a>'\n",
              "            + ' to learn more about interactive tables.';\n",
              "          element.innerHTML = '';\n",
              "          dataTable['output_type'] = 'display_data';\n",
              "          await google.colab.output.renderOutput(dataTable, element);\n",
              "          const docLink = document.createElement('div');\n",
              "          docLink.innerHTML = docLinkHtml;\n",
              "          element.appendChild(docLink);\n",
              "        }\n",
              "      </script>\n",
              "    </div>\n",
              "  </div>\n",
              "  "
            ]
          },
          "metadata": {},
          "execution_count": 66
        }
      ]
    },
    {
      "cell_type": "code",
      "source": [
        "pesquisa.iloc[:,140:160].head(19).plot(figsize=(10, 6)).plot(kind='bar')"
      ],
      "metadata": {
        "colab": {
          "base_uri": "https://localhost:8080/",
          "height": 391
        },
        "id": "uB_lID2HuHoc",
        "outputId": "b1c7c989-f096-44c7-d3b4-e14be8bc2224"
      },
      "execution_count": null,
      "outputs": [
        {
          "output_type": "execute_result",
          "data": {
            "text/plain": [
              "[]"
            ]
          },
          "metadata": {},
          "execution_count": 58
        },
        {
          "output_type": "display_data",
          "data": {
            "text/plain": [
              "<Figure size 720x432 with 1 Axes>"
            ],
            "image/png": "[encoded data removed]"
          },
          "metadata": {
            "needs_background": "light"
          }
        }
      ]
    },
    {
      "cell_type": "markdown",
      "source": [
        "###35. Pergunta_35 (P35) = Dentre as plataformas listadas abaixo qual é a  preferida para cursos de Data Science?"
      ],
      "metadata": {
        "id": "joF6dzN-w63y"
      }
    },
    {
      "cell_type": "code",
      "source": [
        "pesquisa['identificador'].groupby(pesquisa['preferencia de plataformas']).count()"
      ],
      "metadata": {
        "colab": {
          "base_uri": "https://localhost:8080/"
        },
        "id": "A4XLM87Iw8pF",
        "outputId": "d777987f-de3c-498b-d8d9-f40cb730cb65"
      },
      "execution_count": null,
      "outputs": [
        {
          "output_type": "execute_result",
          "data": {
            "text/plain": [
              "preferencia de plataformas\n",
              "Alura                      138\n",
              "Coursera                   309\n",
              "DataCamp                   162\n",
              "DataQuest                   24\n",
              "Kaggle Learn                74\n",
              "Nunca fiz cursos online    162\n",
              "Udacity                    238\n",
              "Udemy                      466\n",
              "edX                         52\n",
              "Name: identificador, dtype: int64"
            ]
          },
          "metadata": {},
          "execution_count": 69
        }
      ]
    },
    {
      "cell_type": "code",
      "source": [
        "pesquisa['identificador'].groupby(pesquisa['preferencia de plataformas']).count().plot(kind='bar')"
      ],
      "metadata": {
        "colab": {
          "base_uri": "https://localhost:8080/",
          "height": 402
        },
        "id": "pXqKKQ7cyQ7D",
        "outputId": "afb6aebd-b4e9-45e4-bd7b-e9db5b60c9ff"
      },
      "execution_count": null,
      "outputs": [
        {
          "output_type": "execute_result",
          "data": {
            "text/plain": [
              "<matplotlib.axes._subplots.AxesSubplot at 0x7fb32901d8d0>"
            ]
          },
          "metadata": {},
          "execution_count": 73
        },
        {
          "output_type": "display_data",
          "data": {
            "text/plain": [
              "<Figure size 432x288 with 1 Axes>"
            ],
            "image/png": "[encoded data removed]"
          },
          "metadata": {
            "needs_background": "light"
          }
        }
      ]
    },
    {
      "cell_type": "code",
      "source": [
        "pesquisa.columns.tolist()"
      ],
      "metadata": {
        "colab": {
          "base_uri": "https://localhost:8080/"
        },
        "id": "GFmne2PcwCZW",
        "outputId": "6916cf01-e9fe-4434-b795-5bf3e5c204af"
      },
      "execution_count": null,
      "outputs": [
        {
          "output_type": "execute_result",
          "data": {
            "text/plain": [
              "['identificador',\n",
              " 'idade',\n",
              " 'genero',\n",
              " 'mora no brasil',\n",
              " 'estado brasil',\n",
              " 'nascido ou graduado',\n",
              " 'nivel de graduação',\n",
              " 'situação do trabalho',\n",
              " 'numero de trabalhadores',\n",
              " 'gerente',\n",
              " \"('P16', 'salary_range')\",\n",
              " 'tempo de experiencia com data_science',\n",
              " 'tempo de exp. antes de data_science',\n",
              " 'é profissional de dados',\n",
              " \"('P20', 'linear_regression')\",\n",
              " \"('P20', 'logistic_regression')\",\n",
              " \"('P20', 'glms')\",\n",
              " \"('P20', 'decision_tree')\",\n",
              " \"('P20', 'random_forest')\",\n",
              " \"('P20', 'neural_networks')\",\n",
              " \"('P20', 'bayesian_inference')\",\n",
              " \"('P20', 'ensemble')\",\n",
              " \"('P20', 'svms')\",\n",
              " \"('P20', 'cnns')\",\n",
              " \"('P20', 'rnns')\",\n",
              " \"('P20', 'hmms')\",\n",
              " \"('P20', 'gans')\",\n",
              " \"('P20', 'markov_chains')\",\n",
              " \"('P20', 'nlp')\",\n",
              " \"('P20', 'gradient_boosted_machines')\",\n",
              " \"('P20', 'cluster_analysis')\",\n",
              " \"('P20', 'survival_analysis')\",\n",
              " \"('P20', 'longitudinal_data_analysis')\",\n",
              " \"('P20', 'joint analysis')\",\n",
              " 'metodo não listado',\n",
              " \"('P21', 'sql_')\",\n",
              " \"('P21', 'r')\",\n",
              " \"('P21', 'python')\",\n",
              " \"('P21', 'c_c++_c#')\",\n",
              " \"('P21', 'dotnet')\",\n",
              " \"('P21', 'java')\",\n",
              " \"('P21', 'julia')\",\n",
              " \"('P21', 'sas_stata')\",\n",
              " \"('P21', 'visual_basic_vba')\",\n",
              " \"('P21', 'scala')\",\n",
              " \"('P21', 'matlab')\",\n",
              " \"('P21', 'php')\",\n",
              " \"('P21', 'no_listed_languages')\",\n",
              " 'linguagens mais usadas',\n",
              " \"('P23', 'sql')\",\n",
              " \"('P23', 'nosql')\",\n",
              " \"('P23', 'images')\",\n",
              " \"('P23', 'nlp')\",\n",
              " \"('P23', 'videos')\",\n",
              " \"('P23', 'sheets')\",\n",
              " \"('P23', 'other')\",\n",
              " \"('P24', 'sql')\",\n",
              " \"('P24', 'nosql')\",\n",
              " \"('P24', 'imagens')\",\n",
              " \"('P24', 'nlp')\",\n",
              " \"('P24', 'vídeos')\",\n",
              " \"('P24', 'planilhas')\",\n",
              " 'clouds',\n",
              " 'amazon',\n",
              " \"('P25', 'gcp')\",\n",
              " 'azure',\n",
              " 'ibm',\n",
              " \"('P25', 'on_premise_servers')\",\n",
              " 'cloud propria',\n",
              " \"('P25', 'other')\",\n",
              " 'mysql',\n",
              " 'oracle',\n",
              " 'sql server',\n",
              " 'aurora',\n",
              " 'dynamodb',\n",
              " 'coachdb',\n",
              " 'cassandra',\n",
              " 'mongodb',\n",
              " 'mariadb',\n",
              " 'datomic',\n",
              " 's3',\n",
              " 'postgresql',\n",
              " 'elaticsearch',\n",
              " 'db2',\n",
              " 'ms_acess',\n",
              " 'sqlite',\n",
              " 'sybase',\n",
              " 'firebase',\n",
              " 'vertica',\n",
              " 'redis',\n",
              " 'neo4j',\n",
              " 'google bigtable',\n",
              " 'hbase',\n",
              " \"('P26', 'other')\",\n",
              " \"('P27', 'microsoft_powerbi')\",\n",
              " \"('P27', 'qlik_view_qlik_sense')\",\n",
              " \"('P27', 'tableau')\",\n",
              " \"('P27', 'metabase')\",\n",
              " \"('P27', 'superset')\",\n",
              " \"('P27', 'redash')\",\n",
              " \"('P27', 'microstrategy')\",\n",
              " \"('P27', 'ibm_analytics_cognos')\",\n",
              " \"('P27', 'sap_business_objects')\",\n",
              " \"('P27', 'oracle_business_intelligence')\",\n",
              " \"('P27', 'birst')\",\n",
              " \"('P27', 'looker')\",\n",
              " \"('P27', 'google_data_studio')\",\n",
              " \"('P27', 'only_excel_gsheets')\",\n",
              " \"('P27', 'no_bi_tool_at_work')\",\n",
              " \"('P27', 'other')\",\n",
              " \"('P28', 'sql_&_stored_procedures')\",\n",
              " \"('P28', 'apache_airflow')\",\n",
              " \"('P28', 'luigi')\",\n",
              " \"('P28', 'aws_glue')\",\n",
              " \"('P28', 'talend')\",\n",
              " \"('P28', 'pentaho')\",\n",
              " \"('P28', 'alteryx')\",\n",
              " \"('P28', 'oracle_data_integrator')\",\n",
              " \"('P28', 'ibm_data_stage')\",\n",
              " \"('P28', 'sap_bw_etl')\",\n",
              " \"('P28', 'siss_sql_server_integration_services')\",\n",
              " \"('P28', 'other')\",\n",
              " \"('P29', 'have_data_warehouse')\",\n",
              " \"('P30', 'google_bigquery')\",\n",
              " \"('P30', 'aws_redshift')\",\n",
              " \"('P30', 'snowflake')\",\n",
              " \"('P30', 'oracle')\",\n",
              " \"('P30', 'postgres_mysql')\",\n",
              " \"('P30', 'ibm')\",\n",
              " 'teradata',\n",
              " \"('P30', 'microsoft_azure')\",\n",
              " \"('P30', 'do_not_know')\",\n",
              " \"('P30', 'other')\",\n",
              " \"('P31', 'data_hackers_blog')\",\n",
              " \"('P31', 'data_hackers_podcast')\",\n",
              " \"('P31', 'weekly_newsletter')\",\n",
              " \"('P31', 'slack_channel')\",\n",
              " \"('P31', 'data_hackers_bootcamp')\",\n",
              " 'nao conhece data hackers',\n",
              " 'preferencia dos hackers de dados',\n",
              " \"('P33', 'telegram_groups')\",\n",
              " \"('P33', 'whatsapp_groups')\",\n",
              " \"('P33', 'youtube_channels')\",\n",
              " \"('P33', 'other_brasilian_blogs')\",\n",
              " \"('P33', 'other_slack_channels')\",\n",
              " \"('P33', 'twitter')\",\n",
              " \"('P33', 'abroad_blogs')\",\n",
              " \"('P33', 'abroad_podcasts')\",\n",
              " \"('P33', 'meetups_and_events')\",\n",
              " \"('P33', 'only_data_hackers')\",\n",
              " \"('P33', 'other')\",\n",
              " \"('P34', 'udacity')\",\n",
              " \"('P34', 'coursera')\",\n",
              " \"('P34', 'udemy')\",\n",
              " \"('P34', 'height')\",\n",
              " \"('P34', 'edx')\",\n",
              " \"('P34', 'data_camp')\",\n",
              " \"('P34', 'data_quest')\",\n",
              " \"('P34', 'kaggle_learn')\",\n",
              " \"('P34', 'online_courses')\",\n",
              " 'outros',\n",
              " 'preferencia de plataformas',\n",
              " 'outras plataformas',\n",
              " 'sorteio de participação',\n",
              " 'mora da região',\n",
              " 'região de origem',\n",
              " 'área de graduação anonima',\n",
              " 'setor de mercado anonimo',\n",
              " \"('D5', 'anonymized_manager_level')\",\n",
              " \"papel anonimo('P16', 'salary_range')\"]"
            ]
          },
          "metadata": {},
          "execution_count": 416
        }
      ]
    }
  ]
}